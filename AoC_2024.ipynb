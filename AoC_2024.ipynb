{
  "nbformat": 4,
  "nbformat_minor": 0,
  "metadata": {
    "colab": {
      "provenance": [],
      "authorship_tag": "ABX9TyPCd2tO7KdWwpkq9iYQ60ze",
      "include_colab_link": true
    },
    "kernelspec": {
      "name": "python3",
      "display_name": "Python 3"
    },
    "language_info": {
      "name": "python"
    }
  },
  "cells": [
    {
      "cell_type": "markdown",
      "metadata": {
        "id": "view-in-github",
        "colab_type": "text"
      },
      "source": [
        "<a href=\"https://colab.research.google.com/github/koperak/Advent-of-Code-2024/blob/main/AoC_2024.ipynb\" target=\"_parent\"><img src=\"https://colab.research.google.com/assets/colab-badge.svg\" alt=\"Open In Colab\"/></a>"
      ]
    },
    {
      "cell_type": "markdown",
      "source": [
        "Initialize support"
      ],
      "metadata": {
        "id": "OM-pEnq2mRLQ"
      }
    },
    {
      "cell_type": "code",
      "source": [
        "import os\n",
        "from pathlib import Path\n",
        "from shutil import copyfile\n",
        "import requests\n",
        "from datetime import date\n",
        "import logging\n",
        "from argparse import ArgumentParser\n",
        "\n",
        "logging.basicConfig(\n",
        "    level=logging.INFO, format=\"%(levelname)-8s %(funcName)s: %(message)s\",\n",
        ")\n",
        "logger = logging.getLogger(__name__)\n",
        "\n",
        "\n",
        "BASE_DIR = \"sample_data\"\n",
        "TEMPLATES_DIR = BASE_DIR + \"/templates\"\n",
        "\n",
        "\n",
        "def setup_dir(day):\n",
        "  newdir = Path(f\"day{day:02d}\")\n",
        "  if not newdir.exists():\n",
        "      os.mkdir(newdir)\n",
        "      logger.info(f\"created a new directory {newdir}\")\n",
        "  logger.info(f\"done copying templates to {newdir}\")\n",
        "\n",
        "\n",
        "def get_input(day, year):\n",
        "\n",
        "  from google.colab import userdata\n",
        "\n",
        "  cookie = userdata.get('AOC_SESSION')\n",
        "\n",
        "  if not cookie:\n",
        "      logger.warning(\"no environment variable 'AOC_SESSION' found! skipping download\")\n",
        "      return\n",
        "\n",
        "  url = f\"https://adventofcode.com/{year}/day/{day}/input\"\n",
        "  dayfolder = f\"day{day:02d}\"\n",
        "  if \"input.txt\" in os.listdir(dayfolder):\n",
        "      logger.warning(f\"{dayfolder}/input.txt already exists, skip download\")\n",
        "      return\n",
        "\n",
        "  logger.info(f\"download input from {url}... \")\n",
        "  try:\n",
        "      response = requests.get(\n",
        "          url=url,\n",
        "          cookies={\"session\": cookie},\n",
        "          headers={\"User-Agent\": \"https://github.com/davekch/aoc by dave-koch@web.de\"},\n",
        "      )\n",
        "      if response.ok:\n",
        "          data = response.text\n",
        "          f = open(Path(dayfolder) / \"input.txt\", \"w+\")\n",
        "          f.write(data.rstrip(\"\\n\"))\n",
        "          f.close()\n",
        "          logger.info(\"... done!\")\n",
        "      else:\n",
        "          logger.error(\"server response not ok\")\n",
        "  except:\n",
        "      logger.error(\"something went wrong\")\n"
      ],
      "metadata": {
        "id": "62uovfBmmNsj"
      },
      "execution_count": 3,
      "outputs": []
    },
    {
      "cell_type": "markdown",
      "source": [
        "Day 1 year 2024"
      ],
      "metadata": {
        "id": "U04jfLLW4evk"
      }
    },
    {
      "cell_type": "markdown",
      "source": [
        "Setup test input and test data"
      ],
      "metadata": {
        "id": "5SwzXE-D_L_h"
      }
    },
    {
      "cell_type": "code",
      "source": [
        "setup_dir(1)\n",
        "get_input(1,2024)\n",
        "input = open(\"day01/input.txt\").read().splitlines()\n",
        "test_input = \"\"\"3   4\n",
        "4   3\n",
        "2   5\n",
        "1   3\n",
        "3   9\n",
        "3   3\"\"\"\n",
        "test_input = test_input.split(\"\\n\")"
      ],
      "metadata": {
        "id": "oK9FDcBionfQ"
      },
      "execution_count": 4,
      "outputs": []
    },
    {
      "cell_type": "code",
      "source": [],
      "metadata": {
        "id": "cLmZDVk28SAW"
      },
      "execution_count": 4,
      "outputs": []
    },
    {
      "cell_type": "code",
      "source": [
        "def prepare_input(input):\n",
        "# prepare input\n",
        "# return left and right list of integers\n",
        "  _list_a, _list_b = zip(*[map(int, row.split(\"   \")) for row in input])\n",
        "  return _list_a, _list_b"
      ],
      "metadata": {
        "id": "2MzAo05PrCDl"
      },
      "execution_count": 5,
      "outputs": []
    },
    {
      "cell_type": "markdown",
      "source": [
        "Part 1"
      ],
      "metadata": {
        "id": "pfPbV4Z8Da7m"
      }
    },
    {
      "cell_type": "code",
      "source": [],
      "metadata": {
        "id": "1QyEIgwONCst"
      },
      "execution_count": 5,
      "outputs": []
    },
    {
      "cell_type": "code",
      "source": [
        "left_list, right_list  = prepare_input(input)"
      ],
      "metadata": {
        "id": "Y4fSK2ZSFG-Z"
      },
      "execution_count": 6,
      "outputs": []
    },
    {
      "cell_type": "code",
      "source": [
        "sum(map(lambda x,y: abs(x - y), sorted(left_list), sorted(right_list)))"
      ],
      "metadata": {
        "colab": {
          "base_uri": "https://localhost:8080/"
        },
        "id": "X44O3Kyf45jt",
        "outputId": "1dd56ae1-dda3-4cb2-ef87-7c63fe84b8b9"
      },
      "execution_count": 7,
      "outputs": [
        {
          "output_type": "execute_result",
          "data": {
            "text/plain": [
              "1258579"
            ]
          },
          "metadata": {},
          "execution_count": 7
        }
      ]
    },
    {
      "cell_type": "markdown",
      "source": [
        "Part 2"
      ],
      "metadata": {
        "id": "g6kLst4o_k6l"
      }
    },
    {
      "cell_type": "code",
      "source": [
        "from collections import OrderedDict, Counter\n",
        "similarity_scores = Counter(right_list)"
      ],
      "metadata": {
        "id": "V5GTO05N57ce"
      },
      "execution_count": 8,
      "outputs": []
    },
    {
      "cell_type": "code",
      "source": [
        "sum(map(lambda first_number: first_number * similarity_scores.get(first_number,0), left_list))"
      ],
      "metadata": {
        "colab": {
          "base_uri": "https://localhost:8080/"
        },
        "id": "5ycoYE5O7u3e",
        "outputId": "59411796-e4c3-45bf-abfa-fec98edf33a3"
      },
      "execution_count": 9,
      "outputs": [
        {
          "output_type": "execute_result",
          "data": {
            "text/plain": [
              "23981443"
            ]
          },
          "metadata": {},
          "execution_count": 9
        }
      ]
    },
    {
      "cell_type": "code",
      "source": [],
      "metadata": {
        "id": "9nUbUPeX9v37"
      },
      "execution_count": 9,
      "outputs": []
    },
    {
      "cell_type": "markdown",
      "source": [
        "# Day 2 year 2024"
      ],
      "metadata": {
        "id": "ykfQwRie6eOq"
      }
    },
    {
      "cell_type": "markdown",
      "source": [
        "## Setup test input and test data"
      ],
      "metadata": {
        "id": "oWXSYkpi6eOq"
      }
    },
    {
      "cell_type": "code",
      "source": [
        "setup_dir(2)\n",
        "get_input(2,2024)\n",
        "input = open(\"day02/input.txt\").read().splitlines()\n",
        "test_input = \"\"\"7 6 4 2 1\n",
        "1 2 7 8 9\n",
        "9 7 6 2 1\n",
        "1 3 2 4 5\n",
        "8 6 4 4 1\n",
        "1 3 6 7 9\"\"\"\n",
        "test_input = test_input.split(\"\\n\")"
      ],
      "metadata": {
        "id": "Knz8hfc-6eOq"
      },
      "execution_count": 10,
      "outputs": []
    },
    {
      "cell_type": "code",
      "source": [],
      "metadata": {
        "id": "7f4vrPNX6eOq"
      },
      "execution_count": 10,
      "outputs": []
    },
    {
      "cell_type": "code",
      "source": [
        "def prepare_input(input):\n",
        "# prepare input\n",
        "# return left and right list of integers\n",
        "  _list = [list(map(int, row.split())) for row in input]\n",
        "  return _list"
      ],
      "metadata": {
        "id": "m2-Lb5bX6eOr"
      },
      "execution_count": 11,
      "outputs": []
    },
    {
      "cell_type": "code",
      "source": [
        "reports  = prepare_input(input)"
      ],
      "metadata": {
        "id": "cHxhIgja6eOr"
      },
      "execution_count": 12,
      "outputs": []
    },
    {
      "cell_type": "markdown",
      "source": [
        "## Part 1"
      ],
      "metadata": {
        "id": "-uI1--Hf6eOr"
      }
    },
    {
      "cell_type": "code",
      "source": [
        "differences = [[y - x for x, y in zip(report, report[1:])] for report in reports]"
      ],
      "metadata": {
        "id": "ZvC2TSBc6eOr"
      },
      "execution_count": 13,
      "outputs": []
    },
    {
      "cell_type": "code",
      "source": [
        "def is_increasing_or_decreasing_and_between2_3(difference):\n",
        "  is_increasing = all(diff > 0 for diff in difference)\n",
        "  is_decreasing = all(diff < 0 for diff in difference)\n",
        "  is_between2_3 = all(1 <= abs(diff) <= 3 for diff in difference)\n",
        "  return (is_increasing or is_decreasing) and is_between2_3"
      ],
      "metadata": {
        "id": "rKOwSrY285oo"
      },
      "execution_count": 14,
      "outputs": []
    },
    {
      "cell_type": "code",
      "source": [
        "safe = 0\n",
        "for difference in differences:\n",
        "  if is_increasing_or_decreasing_and_between2_3(difference):\n",
        "    safe = safe + 1\n",
        "\n",
        "print(f'Part 1: {safe}')"
      ],
      "metadata": {
        "colab": {
          "base_uri": "https://localhost:8080/"
        },
        "id": "JQj4UxaOBMH1",
        "outputId": "763bbf85-92f3-4e68-8eaf-83d4b5b54fa8"
      },
      "execution_count": 15,
      "outputs": [
        {
          "output_type": "stream",
          "name": "stdout",
          "text": [
            "Part 1: 257\n"
          ]
        }
      ]
    },
    {
      "cell_type": "markdown",
      "source": [
        "##Part 2"
      ],
      "metadata": {
        "id": "r7EiBGMz6eOr"
      }
    },
    {
      "cell_type": "code",
      "source": [
        "def remove_one(input_list):\n",
        "  \"\"\" input_list: list of integers\n",
        "      retuns: yelds evety combinatnion of input_list with one element removed\n",
        "  \"\"\"\n",
        "  for i in range(len(input_list)):\n",
        "    yield input_list[:i] + input_list[i+1:]"
      ],
      "metadata": {
        "id": "cet3kNhr6eOr"
      },
      "execution_count": 16,
      "outputs": []
    },
    {
      "cell_type": "code",
      "source": [
        "def calc_differences(input_list):\n",
        "  return [y - x for x, y in zip(input_list, input_list[1:])]"
      ],
      "metadata": {
        "id": "oTcaLRhnZUsu"
      },
      "execution_count": 17,
      "outputs": []
    },
    {
      "cell_type": "code",
      "source": [
        "safe = 0\n",
        "for report in reports:\n",
        "  difference = calc_differences(report)\n",
        "  if is_increasing_or_decreasing_and_between2_3(difference):\n",
        "    safe = safe + 1\n",
        "  else:\n",
        "    for one_removed in remove_one(report):\n",
        "      difference = calc_differences(one_removed)\n",
        "      if is_increasing_or_decreasing_and_between2_3(difference):\n",
        "        safe = safe + 1\n",
        "        break\n",
        "\n",
        "print(f'Part 2: {safe}')"
      ],
      "metadata": {
        "colab": {
          "base_uri": "https://localhost:8080/"
        },
        "outputId": "ea33c7fb-b653-4bfc-83b8-4173f018eef9",
        "id": "DhL4IlKI6eOs"
      },
      "execution_count": 18,
      "outputs": [
        {
          "output_type": "stream",
          "name": "stdout",
          "text": [
            "Part 2: 328\n"
          ]
        }
      ]
    },
    {
      "cell_type": "code",
      "source": [],
      "metadata": {
        "id": "tcTWuaphTxqO"
      },
      "execution_count": 18,
      "outputs": []
    },
    {
      "cell_type": "markdown",
      "source": [
        "# Day 3 year 2024"
      ],
      "metadata": {
        "id": "RUVmUYOpd6Cm"
      }
    },
    {
      "cell_type": "markdown",
      "source": [
        "## Setup test input and test data"
      ],
      "metadata": {
        "id": "G8HWluN6d6Cm"
      }
    },
    {
      "cell_type": "code",
      "source": [
        "day = 3\n",
        "setup_dir(day)\n",
        "get_input(day,2024)\n",
        "input = open(f\"day0{day}/input.txt\").read()\n",
        "test_input = \"\"\"xmul(2,4)%&mul[3,7]!@^do_not_mul(5,5)+mul(32,64]then(mul(11,8)mul(8,5))\"\"\""
      ],
      "metadata": {
        "id": "-yOcAJPVd6Cm"
      },
      "execution_count": 19,
      "outputs": []
    },
    {
      "cell_type": "code",
      "source": [
        "def prepare_input(input):\n",
        "# prepare input\n",
        "# return left and right list of integers\n",
        "  return input"
      ],
      "metadata": {
        "id": "qNRO42yFd6Cm"
      },
      "execution_count": 20,
      "outputs": []
    },
    {
      "cell_type": "code",
      "source": [
        "memory  = prepare_input(input)"
      ],
      "metadata": {
        "id": "IrDki2xrd6Cm"
      },
      "execution_count": 21,
      "outputs": []
    },
    {
      "cell_type": "markdown",
      "source": [
        "## Part 1"
      ],
      "metadata": {
        "id": "Zo51GhIKd6Cm"
      }
    },
    {
      "cell_type": "code",
      "source": [
        "import re\n",
        "\n",
        "pattern = r'mul\\((\\d{1,3}),(\\d{1,3})\\)'\n",
        "\n",
        "print(sum(x * y for x, y in [map(int, mul) for mul in re.findall(pattern, input)]))\n",
        "\n"
      ],
      "metadata": {
        "colab": {
          "base_uri": "https://localhost:8080/"
        },
        "id": "88ASwH--d6Cn",
        "outputId": "55f5a496-cf0e-4e34-811e-fdcef4eec990"
      },
      "execution_count": 22,
      "outputs": [
        {
          "output_type": "stream",
          "name": "stdout",
          "text": [
            "180233229\n"
          ]
        }
      ]
    },
    {
      "cell_type": "markdown",
      "source": [
        "##Part 2"
      ],
      "metadata": {
        "id": "LOJWdUZ6d6Cn"
      }
    },
    {
      "cell_type": "code",
      "source": [
        "new_pattern =  r\"mul\\(\\d+,\\d+\\)|do\\(\\)|don't\\(\\)\"\n",
        "\n",
        "test_input = \"\"\"xmul(2,4)&mul[3,7]!^don't()_mul(5,5)+mul(32,64](mul(11,8)undo()?mul(8,5))\"\"\"\n",
        "memory = prepare_input(input)\n",
        "\n",
        "suma = 0\n",
        "follow = True\n",
        "\n",
        "for found in re.findall(new_pattern, input):\n",
        "  match found:\n",
        "      case \"do()\":\n",
        "          follow = True\n",
        "      case \"don't()\":\n",
        "          follow = False\n",
        "      case _:\n",
        "          if follow:\n",
        "              x, y = map(int, found[4:-1].split(','))\n",
        "              suma += x * y\n",
        "\n",
        "print(suma)"
      ],
      "metadata": {
        "colab": {
          "base_uri": "https://localhost:8080/"
        },
        "id": "PEY0A_11d6Cn",
        "outputId": "ae450141-f407-49b3-8cb1-6f0cbc00400d"
      },
      "execution_count": 23,
      "outputs": [
        {
          "output_type": "stream",
          "name": "stdout",
          "text": [
            "95411583\n"
          ]
        }
      ]
    },
    {
      "cell_type": "code",
      "source": [],
      "metadata": {
        "id": "zcprSWylqsWt"
      },
      "execution_count": 23,
      "outputs": []
    }
  ]
}