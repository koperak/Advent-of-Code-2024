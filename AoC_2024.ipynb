{
  "nbformat": 4,
  "nbformat_minor": 0,
  "metadata": {
    "colab": {
      "provenance": [],
      "authorship_tag": "ABX9TyPrgtKdj142iFHNPj+olr72",
      "include_colab_link": true
    },
    "kernelspec": {
      "name": "python3",
      "display_name": "Python 3"
    },
    "language_info": {
      "name": "python"
    }
  },
  "cells": [
    {
      "cell_type": "markdown",
      "metadata": {
        "id": "view-in-github",
        "colab_type": "text"
      },
      "source": [
        "<a href=\"https://colab.research.google.com/github/koperak/Advent-of-Code-2024/blob/main/AoC_2024.ipynb\" target=\"_parent\"><img src=\"https://colab.research.google.com/assets/colab-badge.svg\" alt=\"Open In Colab\"/></a>"
      ]
    },
    {
      "cell_type": "markdown",
      "source": [
        "Initialize support"
      ],
      "metadata": {
        "id": "OM-pEnq2mRLQ"
      }
    },
    {
      "cell_type": "code",
      "source": [
        "import os\n",
        "from pathlib import Path\n",
        "from shutil import copyfile\n",
        "import requests\n",
        "from datetime import date\n",
        "import logging\n",
        "from argparse import ArgumentParser\n",
        "\n",
        "logging.basicConfig(\n",
        "    level=logging.INFO, format=\"%(levelname)-8s %(funcName)s: %(message)s\",\n",
        ")\n",
        "logger = logging.getLogger(__name__)\n",
        "\n",
        "\n",
        "BASE_DIR = \"sample_data\"\n",
        "TEMPLATES_DIR = BASE_DIR + \"/templates\"\n",
        "\n",
        "\n",
        "def setup_dir(day):\n",
        "  newdir = Path(f\"day{day:02d}\")\n",
        "  if not newdir.exists():\n",
        "      os.mkdir(newdir)\n",
        "      logger.info(f\"created a new directory {newdir}\")\n",
        "  logger.info(f\"done copying templates to {newdir}\")\n",
        "\n",
        "\n",
        "def get_input(day, year):\n",
        "\n",
        "  from google.colab import userdata\n",
        "\n",
        "  cookie = userdata.get('AOC_SESSION')\n",
        "\n",
        "  if not cookie:\n",
        "      logger.warning(\"no environment variable 'AOC_SESSION' found! skipping download\")\n",
        "      return\n",
        "\n",
        "  url = f\"https://adventofcode.com/{year}/day/{day}/input\"\n",
        "  dayfolder = f\"day{day:02d}\"\n",
        "  if \"input.txt\" in os.listdir(dayfolder):\n",
        "      logger.warning(f\"{dayfolder}/input.txt already exists, skip download\")\n",
        "      return\n",
        "\n",
        "  logger.info(f\"download input from {url}... \")\n",
        "  try:\n",
        "      response = requests.get(\n",
        "          url=url,\n",
        "          cookies={\"session\": cookie},\n",
        "          headers={\"User-Agent\": \"https://github.com/davekch/aoc by dave-koch@web.de\"},\n",
        "      )\n",
        "      if response.ok:\n",
        "          data = response.text\n",
        "          f = open(Path(dayfolder) / \"input.txt\", \"w+\")\n",
        "          f.write(data.rstrip(\"\\n\"))\n",
        "          f.close()\n",
        "          logger.info(\"... done!\")\n",
        "      else:\n",
        "          logger.error(\"server response not ok\")\n",
        "  except:\n",
        "      logger.error(\"something went wrong\")\n"
      ],
      "metadata": {
        "id": "62uovfBmmNsj"
      },
      "execution_count": 1,
      "outputs": []
    },
    {
      "cell_type": "markdown",
      "source": [
        "Day 1 year 2024"
      ],
      "metadata": {
        "id": "U04jfLLW4evk"
      }
    },
    {
      "cell_type": "markdown",
      "source": [
        "Setup test input and test data"
      ],
      "metadata": {
        "id": "5SwzXE-D_L_h"
      }
    },
    {
      "cell_type": "code",
      "source": [
        "setup_dir(1)\n",
        "get_input(1,2024)\n",
        "input = open(\"day01/input.txt\").read().splitlines()\n",
        "test_input = \"\"\"3   4\n",
        "4   3\n",
        "2   5\n",
        "1   3\n",
        "3   9\n",
        "3   3\"\"\"\n",
        "test_input = test_input.split(\"\\n\")"
      ],
      "metadata": {
        "id": "oK9FDcBionfQ",
        "colab": {
          "base_uri": "https://localhost:8080/"
        },
        "outputId": "9e4d3f2e-5f27-44b4-b9a0-75b1d97bb6c1"
      },
      "execution_count": 2,
      "outputs": [
        {
          "output_type": "stream",
          "name": "stderr",
          "text": [
            "WARNING:__main__:day01/input.txt already exists, skip download\n"
          ]
        }
      ]
    },
    {
      "cell_type": "code",
      "source": [],
      "metadata": {
        "id": "cLmZDVk28SAW"
      },
      "execution_count": 2,
      "outputs": []
    },
    {
      "cell_type": "code",
      "source": [
        "def prepare_input(input):\n",
        "# prepare input\n",
        "# return left and right list of integers\n",
        "  _list_a, _list_b = zip(*[map(int, row.split(\"   \")) for row in input])\n",
        "  return _list_a, _list_b"
      ],
      "metadata": {
        "id": "2MzAo05PrCDl"
      },
      "execution_count": 3,
      "outputs": []
    },
    {
      "cell_type": "markdown",
      "source": [
        "Part 1"
      ],
      "metadata": {
        "id": "pfPbV4Z8Da7m"
      }
    },
    {
      "cell_type": "code",
      "source": [],
      "metadata": {
        "id": "1QyEIgwONCst"
      },
      "execution_count": 3,
      "outputs": []
    },
    {
      "cell_type": "code",
      "source": [
        "left_list, right_list  = prepare_input(input)"
      ],
      "metadata": {
        "id": "Y4fSK2ZSFG-Z"
      },
      "execution_count": 4,
      "outputs": []
    },
    {
      "cell_type": "code",
      "source": [
        "sum(map(lambda x,y: abs(x - y), sorted(left_list), sorted(right_list)))"
      ],
      "metadata": {
        "colab": {
          "base_uri": "https://localhost:8080/"
        },
        "id": "X44O3Kyf45jt",
        "outputId": "200bfb38-b68f-408b-e62b-de7aa20d68e7"
      },
      "execution_count": 5,
      "outputs": [
        {
          "output_type": "execute_result",
          "data": {
            "text/plain": [
              "1258579"
            ]
          },
          "metadata": {},
          "execution_count": 5
        }
      ]
    },
    {
      "cell_type": "markdown",
      "source": [
        "Part 2"
      ],
      "metadata": {
        "id": "g6kLst4o_k6l"
      }
    },
    {
      "cell_type": "code",
      "source": [
        "from collections import OrderedDict, Counter\n",
        "similarity_scores = Counter(right_list)"
      ],
      "metadata": {
        "id": "V5GTO05N57ce"
      },
      "execution_count": 6,
      "outputs": []
    },
    {
      "cell_type": "code",
      "source": [
        "sum(map(lambda first_number: first_number * similarity_scores.get(first_number,0), left_list))"
      ],
      "metadata": {
        "colab": {
          "base_uri": "https://localhost:8080/"
        },
        "id": "5ycoYE5O7u3e",
        "outputId": "7de5be31-4164-485e-df20-3cf71a11d6e8"
      },
      "execution_count": 7,
      "outputs": [
        {
          "output_type": "execute_result",
          "data": {
            "text/plain": [
              "23981443"
            ]
          },
          "metadata": {},
          "execution_count": 7
        }
      ]
    },
    {
      "cell_type": "code",
      "source": [],
      "metadata": {
        "id": "9nUbUPeX9v37"
      },
      "execution_count": 7,
      "outputs": []
    },
    {
      "cell_type": "markdown",
      "source": [
        "# Day 2 year 2024"
      ],
      "metadata": {
        "id": "ykfQwRie6eOq"
      }
    },
    {
      "cell_type": "markdown",
      "source": [
        "## Setup test input and test data"
      ],
      "metadata": {
        "id": "oWXSYkpi6eOq"
      }
    },
    {
      "cell_type": "code",
      "source": [
        "setup_dir(2)\n",
        "get_input(2,2024)\n",
        "input = open(\"day02/input.txt\").read().splitlines()\n",
        "test_input = \"\"\"7 6 4 2 1\n",
        "1 2 7 8 9\n",
        "9 7 6 2 1\n",
        "1 3 2 4 5\n",
        "8 6 4 4 1\n",
        "1 3 6 7 9\"\"\"\n",
        "test_input = test_input.split(\"\\n\")"
      ],
      "metadata": {
        "id": "Knz8hfc-6eOq",
        "colab": {
          "base_uri": "https://localhost:8080/"
        },
        "outputId": "25b6fed4-5856-497c-c74f-0fc5354ed177"
      },
      "execution_count": 8,
      "outputs": [
        {
          "output_type": "stream",
          "name": "stderr",
          "text": [
            "WARNING:__main__:day02/input.txt already exists, skip download\n"
          ]
        }
      ]
    },
    {
      "cell_type": "code",
      "source": [],
      "metadata": {
        "id": "7f4vrPNX6eOq"
      },
      "execution_count": 8,
      "outputs": []
    },
    {
      "cell_type": "code",
      "source": [
        "def prepare_input(input):\n",
        "# prepare input\n",
        "# return left and right list of integers\n",
        "  _list = [list(map(int, row.split())) for row in input]\n",
        "  return _list"
      ],
      "metadata": {
        "id": "m2-Lb5bX6eOr"
      },
      "execution_count": 9,
      "outputs": []
    },
    {
      "cell_type": "code",
      "source": [
        "reports  = prepare_input(input)"
      ],
      "metadata": {
        "id": "cHxhIgja6eOr"
      },
      "execution_count": 10,
      "outputs": []
    },
    {
      "cell_type": "markdown",
      "source": [
        "## Part 1"
      ],
      "metadata": {
        "id": "-uI1--Hf6eOr"
      }
    },
    {
      "cell_type": "code",
      "source": [
        "differences = [[y - x for x, y in zip(report, report[1:])] for report in reports]"
      ],
      "metadata": {
        "id": "ZvC2TSBc6eOr"
      },
      "execution_count": 11,
      "outputs": []
    },
    {
      "cell_type": "code",
      "source": [
        "def is_increasing_or_decreasing_and_between2_3(difference):\n",
        "  is_increasing = all(diff > 0 for diff in difference)\n",
        "  is_decreasing = all(diff < 0 for diff in difference)\n",
        "  is_between2_3 = all(1 <= abs(diff) <= 3 for diff in difference)\n",
        "  return (is_increasing or is_decreasing) and is_between2_3"
      ],
      "metadata": {
        "id": "rKOwSrY285oo"
      },
      "execution_count": 12,
      "outputs": []
    },
    {
      "cell_type": "code",
      "source": [
        "safe = 0\n",
        "for difference in differences:\n",
        "  if is_increasing_or_decreasing_and_between2_3(difference):\n",
        "    safe = safe + 1\n",
        "\n",
        "print(f'Part 1: {safe}')"
      ],
      "metadata": {
        "colab": {
          "base_uri": "https://localhost:8080/"
        },
        "id": "JQj4UxaOBMH1",
        "outputId": "94e962ae-027f-430e-d101-87390a316c17"
      },
      "execution_count": 13,
      "outputs": [
        {
          "output_type": "stream",
          "name": "stdout",
          "text": [
            "Part 1: 257\n"
          ]
        }
      ]
    },
    {
      "cell_type": "markdown",
      "source": [
        "##Part 2"
      ],
      "metadata": {
        "id": "r7EiBGMz6eOr"
      }
    },
    {
      "cell_type": "code",
      "source": [
        "def remove_one(input_list):\n",
        "  \"\"\" input_list: list of integers\n",
        "      retuns: yelds evety combinatnion of input_list with one element removed\n",
        "  \"\"\"\n",
        "  for i in range(len(input_list)):\n",
        "    yield input_list[:i] + input_list[i+1:]"
      ],
      "metadata": {
        "id": "cet3kNhr6eOr"
      },
      "execution_count": 14,
      "outputs": []
    },
    {
      "cell_type": "code",
      "source": [
        "def calc_differences(input_list):\n",
        "  return [y - x for x, y in zip(input_list, input_list[1:])]"
      ],
      "metadata": {
        "id": "oTcaLRhnZUsu"
      },
      "execution_count": 15,
      "outputs": []
    },
    {
      "cell_type": "code",
      "source": [
        "safe = 0\n",
        "for report in reports:\n",
        "  difference = calc_differences(report)\n",
        "  if is_increasing_or_decreasing_and_between2_3(difference):\n",
        "    safe = safe + 1\n",
        "    print(f'Report: {report}, Safe: {safe}, Difference: {difference}')\n",
        "  else:\n",
        "    for one_removed in remove_one(report):\n",
        "      difference = calc_differences(one_removed)\n",
        "      if is_increasing_or_decreasing_and_between2_3(difference):\n",
        "        safe = safe + 1\n",
        "        print(f'Removed one: {one_removed}, Safe: {safe}, Difference: {difference}')\n",
        "        break\n",
        "\n",
        "print(f'Part 2: {safe}')"
      ],
      "metadata": {
        "colab": {
          "base_uri": "https://localhost:8080/"
        },
        "outputId": "f59a4f44-c85c-4191-95a0-c6947259ede8",
        "id": "DhL4IlKI6eOs"
      },
      "execution_count": 16,
      "outputs": [
        {
          "output_type": "stream",
          "name": "stdout",
          "text": [
            "Removed one: [74, 76, 78, 79], Safe: 1, Difference: [2, 2, 1]\n",
            "Removed one: [38, 40, 43, 44], Safe: 2, Difference: [2, 3, 1]\n",
            "Removed one: [1, 2, 4, 6, 8, 9], Safe: 3, Difference: [1, 2, 2, 2, 1]\n",
            "Removed one: [65, 68, 70, 72, 75, 76], Safe: 4, Difference: [3, 2, 2, 3, 1]\n",
            "Removed one: [89, 91, 92, 93, 94], Safe: 5, Difference: [2, 1, 1, 1]\n",
            "Removed one: [77, 78, 79, 82, 83], Safe: 6, Difference: [1, 1, 3, 1]\n",
            "Removed one: [79, 82, 84, 85, 86], Safe: 7, Difference: [3, 2, 1, 1]\n",
            "Removed one: [54, 57, 60, 61], Safe: 8, Difference: [3, 3, 1]\n",
            "Removed one: [52, 54, 57, 60, 62, 64], Safe: 9, Difference: [2, 3, 3, 2, 2]\n",
            "Removed one: [47, 49, 50, 53, 56, 59, 61], Safe: 10, Difference: [2, 1, 3, 3, 3, 2]\n",
            "Removed one: [77, 78, 81, 83], Safe: 11, Difference: [1, 3, 2]\n",
            "Removed one: [87, 86, 83, 82, 81, 78, 77], Safe: 12, Difference: [-1, -3, -1, -1, -3, -1]\n",
            "Removed one: [55, 52, 51, 49], Safe: 13, Difference: [-3, -1, -2]\n",
            "Removed one: [46, 43, 41, 39, 38, 37], Safe: 14, Difference: [-3, -2, -2, -1, -1]\n",
            "Removed one: [33, 31, 28, 27, 26, 24, 22], Safe: 15, Difference: [-2, -3, -1, -1, -2, -2]\n",
            "Removed one: [83, 80, 78, 77, 76, 73], Safe: 16, Difference: [-3, -2, -1, -1, -3]\n",
            "Removed one: [77, 76, 75, 73, 70, 68], Safe: 17, Difference: [-1, -1, -2, -3, -2]\n",
            "Removed one: [20, 19, 18, 16, 13, 10, 7], Safe: 18, Difference: [-1, -1, -2, -3, -3, -3]\n",
            "Removed one: [87, 84, 82, 81, 78, 75, 73], Safe: 19, Difference: [-3, -2, -1, -3, -3, -2]\n",
            "Removed one: [30, 27, 24, 23], Safe: 20, Difference: [-3, -3, -1]\n",
            "Removed one: [13, 11, 8, 7], Safe: 21, Difference: [-2, -3, -1]\n",
            "Removed one: [30, 27, 24, 22, 19, 16], Safe: 22, Difference: [-3, -3, -2, -3, -3]\n",
            "Removed one: [9, 10, 11, 14, 17, 19], Safe: 23, Difference: [1, 1, 3, 3, 2]\n",
            "Removed one: [47, 49, 51, 54, 57], Safe: 24, Difference: [2, 2, 3, 3]\n",
            "Removed one: [38, 40, 41, 43, 45], Safe: 25, Difference: [2, 1, 2, 2]\n",
            "Removed one: [39, 40, 41, 43, 44, 45], Safe: 26, Difference: [1, 1, 2, 1, 1]\n",
            "Removed one: [18, 20, 21, 24, 25, 27, 30], Safe: 27, Difference: [2, 1, 3, 1, 2, 3]\n",
            "Removed one: [51, 53, 54, 56, 58], Safe: 28, Difference: [2, 1, 2, 2]\n",
            "Removed one: [57, 60, 63, 65], Safe: 29, Difference: [3, 3, 2]\n",
            "Removed one: [87, 90, 93, 94, 96], Safe: 30, Difference: [3, 3, 1, 2]\n",
            "Removed one: [38, 35, 34, 31], Safe: 31, Difference: [-3, -1, -3]\n",
            "Removed one: [27, 30, 31, 33, 35, 36, 38], Safe: 32, Difference: [3, 1, 2, 2, 1, 2]\n",
            "Removed one: [43, 46, 49, 50, 52], Safe: 33, Difference: [3, 3, 1, 2]\n",
            "Removed one: [50, 51, 54, 56], Safe: 34, Difference: [1, 3, 2]\n",
            "Removed one: [35, 33, 32, 31], Safe: 35, Difference: [-2, -1, -1]\n",
            "Removed one: [29, 26, 25, 24, 22, 20], Safe: 36, Difference: [-3, -1, -1, -2, -2]\n",
            "Removed one: [53, 52, 51, 48], Safe: 37, Difference: [-1, -1, -3]\n",
            "Removed one: [42, 39, 37, 34, 33, 31], Safe: 38, Difference: [-3, -2, -3, -1, -2]\n",
            "Removed one: [14, 12, 9, 8, 5, 4, 1], Safe: 39, Difference: [-2, -3, -1, -3, -1, -3]\n",
            "Removed one: [86, 84, 82, 81, 80, 78], Safe: 40, Difference: [-2, -2, -1, -1, -2]\n",
            "Removed one: [82, 80, 78, 76], Safe: 41, Difference: [-2, -2, -2]\n",
            "Removed one: [33, 31, 28, 27, 24, 21], Safe: 42, Difference: [-2, -3, -1, -3, -3]\n",
            "Removed one: [95, 93, 90, 87, 84, 81, 80], Safe: 43, Difference: [-2, -3, -3, -3, -3, -1]\n",
            "Removed one: [78, 77, 76, 73, 72, 71], Safe: 44, Difference: [-1, -1, -3, -1, -1]\n",
            "Removed one: [83, 81, 79, 78, 77, 75], Safe: 45, Difference: [-2, -2, -1, -1, -2]\n",
            "Removed one: [32, 30, 29, 28, 25], Safe: 46, Difference: [-2, -1, -1, -3]\n",
            "Removed one: [65, 68, 70, 73, 75, 77, 80], Safe: 47, Difference: [3, 2, 3, 2, 2, 3]\n",
            "Removed one: [70, 72, 73, 74], Safe: 48, Difference: [2, 1, 1]\n",
            "Removed one: [10, 9, 6, 4, 3, 2, 1], Safe: 49, Difference: [-1, -3, -2, -1, -1, -1]\n",
            "Removed one: [87, 84, 83, 81, 79], Safe: 50, Difference: [-3, -1, -2, -2]\n",
            "Removed one: [19, 17, 15, 13, 12, 10, 7], Safe: 51, Difference: [-2, -2, -2, -1, -2, -3]\n",
            "Removed one: [52, 50, 49, 48, 47], Safe: 52, Difference: [-2, -1, -1, -1]\n",
            "Removed one: [42, 43, 44, 47, 48, 51], Safe: 53, Difference: [1, 1, 3, 1, 3]\n",
            "Removed one: [40, 39, 37, 36, 35, 34, 32], Safe: 54, Difference: [-1, -2, -1, -1, -1, -2]\n",
            "Removed one: [16, 19, 20, 22, 25, 27, 29], Safe: 55, Difference: [3, 1, 2, 3, 2, 2]\n",
            "Removed one: [8, 11, 14, 17, 20], Safe: 56, Difference: [3, 3, 3, 3]\n",
            "Removed one: [70, 73, 74, 77], Safe: 57, Difference: [3, 1, 3]\n",
            "Removed one: [38, 35, 32, 31, 30, 27, 24], Safe: 58, Difference: [-3, -3, -1, -1, -3, -3]\n",
            "Removed one: [60, 62, 63, 66], Safe: 59, Difference: [2, 1, 3]\n",
            "Removed one: [32, 35, 36, 39, 42], Safe: 60, Difference: [3, 1, 3, 3]\n",
            "Removed one: [42, 43, 46, 49], Safe: 61, Difference: [1, 3, 3]\n",
            "Removed one: [59, 56, 53, 52, 50, 47], Safe: 62, Difference: [-3, -3, -1, -2, -3]\n",
            "Removed one: [46, 48, 49, 50, 53], Safe: 63, Difference: [2, 1, 1, 3]\n",
            "Removed one: [82, 85, 87, 89, 92, 94, 95], Safe: 64, Difference: [3, 2, 2, 3, 2, 1]\n",
            "Removed one: [15, 13, 12, 10, 9, 6], Safe: 65, Difference: [-2, -1, -2, -1, -3]\n",
            "Removed one: [61, 59, 57, 54, 53], Safe: 66, Difference: [-2, -2, -3, -1]\n",
            "Removed one: [44, 41, 39, 37, 36, 35], Safe: 67, Difference: [-3, -2, -2, -1, -1]\n",
            "Removed one: [17, 14, 11, 8], Safe: 68, Difference: [-3, -3, -3]\n",
            "Removed one: [1, 2, 3, 4, 7], Safe: 69, Difference: [1, 1, 1, 3]\n",
            "Removed one: [75, 77, 80, 82], Safe: 70, Difference: [2, 3, 2]\n",
            "Removed one: [47, 50, 51, 52, 55], Safe: 71, Difference: [3, 1, 1, 3]\n",
            "Report: [95, 93, 91, 89, 86, 85, 84, 81], Safe: 72, Difference: [-2, -2, -2, -3, -1, -1, -3]\n",
            "Report: [96, 95, 92, 91, 88, 85, 82], Safe: 73, Difference: [-1, -3, -1, -3, -3, -3]\n",
            "Report: [14, 15, 16, 17, 20, 21, 23], Safe: 74, Difference: [1, 1, 1, 3, 1, 2]\n",
            "Report: [3, 4, 7, 8, 10, 11, 13, 15], Safe: 75, Difference: [1, 3, 1, 2, 1, 2, 2]\n",
            "Report: [43, 45, 48, 51, 53, 56, 59, 62], Safe: 76, Difference: [2, 3, 3, 2, 3, 3, 3]\n",
            "Report: [67, 66, 65, 64, 63, 62], Safe: 77, Difference: [-1, -1, -1, -1, -1]\n",
            "Report: [34, 31, 30, 28, 25], Safe: 78, Difference: [-3, -1, -2, -3]\n",
            "Report: [64, 61, 60, 59, 58, 56, 55], Safe: 79, Difference: [-3, -1, -1, -1, -2, -1]\n",
            "Report: [2, 5, 8, 9, 11, 13, 15], Safe: 80, Difference: [3, 3, 1, 2, 2, 2]\n",
            "Report: [48, 51, 52, 54, 55, 58, 60, 61], Safe: 81, Difference: [3, 1, 2, 1, 3, 2, 1]\n",
            "Report: [33, 34, 35, 36, 38], Safe: 82, Difference: [1, 1, 1, 2]\n",
            "Report: [12, 14, 17, 20, 23, 24, 25], Safe: 83, Difference: [2, 3, 3, 3, 1, 1]\n",
            "Report: [4, 7, 9, 11, 13, 16, 19, 22], Safe: 84, Difference: [3, 2, 2, 2, 3, 3, 3]\n",
            "Report: [34, 32, 31, 28, 26, 24, 21, 19], Safe: 85, Difference: [-2, -1, -3, -2, -2, -3, -2]\n",
            "Report: [58, 57, 56, 55, 54, 53], Safe: 86, Difference: [-1, -1, -1, -1, -1]\n",
            "Report: [72, 73, 76, 78, 81, 84, 85], Safe: 87, Difference: [1, 3, 2, 3, 3, 1]\n",
            "Report: [66, 68, 70, 73, 75, 76, 79], Safe: 88, Difference: [2, 2, 3, 2, 1, 3]\n",
            "Report: [40, 42, 44, 46, 47], Safe: 89, Difference: [2, 2, 2, 1]\n",
            "Report: [13, 15, 18, 21, 22, 25], Safe: 90, Difference: [2, 3, 3, 1, 3]\n",
            "Report: [49, 51, 52, 55, 56, 57], Safe: 91, Difference: [2, 1, 3, 1, 1]\n",
            "Report: [49, 50, 52, 53, 54, 57, 59], Safe: 92, Difference: [1, 2, 1, 1, 3, 2]\n",
            "Report: [24, 27, 28, 30, 31], Safe: 93, Difference: [3, 1, 2, 1]\n",
            "Report: [4, 5, 7, 10, 12, 13, 14, 15], Safe: 94, Difference: [1, 2, 3, 2, 1, 1, 1]\n",
            "Report: [59, 58, 56, 55, 54], Safe: 95, Difference: [-1, -2, -1, -1]\n",
            "Report: [18, 16, 14, 13, 12], Safe: 96, Difference: [-2, -2, -1, -1]\n",
            "Report: [1, 4, 6, 9, 12, 15, 16], Safe: 97, Difference: [3, 2, 3, 3, 3, 1]\n",
            "Report: [66, 64, 63, 62, 59, 57, 54, 53], Safe: 98, Difference: [-2, -1, -1, -3, -2, -3, -1]\n",
            "Report: [90, 88, 86, 85, 83, 82, 80], Safe: 99, Difference: [-2, -2, -1, -2, -1, -2]\n",
            "Report: [67, 70, 72, 74, 76, 79, 82, 85], Safe: 100, Difference: [3, 2, 2, 2, 3, 3, 3]\n",
            "Report: [57, 56, 54, 52, 49, 48], Safe: 101, Difference: [-1, -2, -2, -3, -1]\n",
            "Report: [11, 14, 16, 18, 20, 23, 25], Safe: 102, Difference: [3, 2, 2, 2, 3, 2]\n",
            "Report: [50, 53, 55, 57, 59, 62, 64], Safe: 103, Difference: [3, 2, 2, 2, 3, 2]\n",
            "Report: [77, 78, 81, 82, 84, 86], Safe: 104, Difference: [1, 3, 1, 2, 2]\n",
            "Report: [67, 70, 72, 74, 76, 79, 81, 84], Safe: 105, Difference: [3, 2, 2, 2, 3, 2, 3]\n",
            "Report: [70, 69, 67, 65, 64, 62, 60, 58], Safe: 106, Difference: [-1, -2, -2, -1, -2, -2, -2]\n",
            "Report: [6, 9, 12, 14, 17, 18, 21, 23], Safe: 107, Difference: [3, 3, 2, 3, 1, 3, 2]\n",
            "Report: [72, 74, 76, 77, 78, 81, 83, 86], Safe: 108, Difference: [2, 2, 1, 1, 3, 2, 3]\n",
            "Report: [43, 40, 39, 36, 34, 32, 29], Safe: 109, Difference: [-3, -1, -3, -2, -2, -3]\n",
            "Report: [49, 47, 46, 44, 43, 40], Safe: 110, Difference: [-2, -1, -2, -1, -3]\n",
            "Report: [65, 62, 60, 57, 56], Safe: 111, Difference: [-3, -2, -3, -1]\n",
            "Report: [71, 73, 76, 79, 80], Safe: 112, Difference: [2, 3, 3, 1]\n",
            "Report: [74, 71, 69, 68, 66], Safe: 113, Difference: [-3, -2, -1, -2]\n",
            "Report: [21, 22, 25, 28, 31], Safe: 114, Difference: [1, 3, 3, 3]\n",
            "Report: [85, 84, 82, 81, 78], Safe: 115, Difference: [-1, -2, -1, -3]\n",
            "Report: [42, 44, 46, 47, 48, 50, 51, 54], Safe: 116, Difference: [2, 2, 1, 1, 2, 1, 3]\n",
            "Report: [54, 53, 51, 50, 48, 47, 44, 42], Safe: 117, Difference: [-1, -2, -1, -2, -1, -3, -2]\n",
            "Report: [95, 92, 90, 89, 86], Safe: 118, Difference: [-3, -2, -1, -3]\n",
            "Report: [80, 81, 82, 84, 85, 86], Safe: 119, Difference: [1, 1, 2, 1, 1]\n",
            "Report: [59, 58, 55, 54, 51], Safe: 120, Difference: [-1, -3, -1, -3]\n",
            "Report: [58, 57, 56, 55, 52], Safe: 121, Difference: [-1, -1, -1, -3]\n",
            "Report: [32, 35, 36, 38, 41], Safe: 122, Difference: [3, 1, 2, 3]\n",
            "Report: [30, 28, 26, 23, 22, 19], Safe: 123, Difference: [-2, -2, -3, -1, -3]\n",
            "Report: [36, 33, 31, 30, 29, 26, 25, 23], Safe: 124, Difference: [-3, -2, -1, -1, -3, -1, -2]\n",
            "Report: [53, 55, 56, 58, 59, 61, 62], Safe: 125, Difference: [2, 1, 2, 1, 2, 1]\n",
            "Report: [40, 42, 44, 47, 49], Safe: 126, Difference: [2, 2, 3, 2]\n",
            "Report: [49, 52, 54, 57, 58], Safe: 127, Difference: [3, 2, 3, 1]\n",
            "Report: [71, 74, 77, 78, 81, 83], Safe: 128, Difference: [3, 3, 1, 3, 2]\n",
            "Report: [18, 16, 14, 12, 10, 8, 7, 4], Safe: 129, Difference: [-2, -2, -2, -2, -2, -1, -3]\n",
            "Report: [28, 31, 34, 37, 38, 41], Safe: 130, Difference: [3, 3, 3, 1, 3]\n",
            "Report: [5, 8, 11, 14, 16, 19], Safe: 131, Difference: [3, 3, 3, 2, 3]\n",
            "Report: [10, 13, 16, 19, 22, 24], Safe: 132, Difference: [3, 3, 3, 3, 2]\n",
            "Report: [77, 79, 82, 83, 85, 86, 88, 90], Safe: 133, Difference: [2, 3, 1, 2, 1, 2, 2]\n",
            "Report: [49, 46, 43, 40, 38, 37], Safe: 134, Difference: [-3, -3, -3, -2, -1]\n",
            "Report: [7, 8, 10, 12, 13, 15, 18, 19], Safe: 135, Difference: [1, 2, 2, 1, 2, 3, 1]\n",
            "Report: [69, 70, 71, 72, 73, 76], Safe: 136, Difference: [1, 1, 1, 1, 3]\n",
            "Report: [52, 51, 48, 47, 45, 42, 40, 39], Safe: 137, Difference: [-1, -3, -1, -2, -3, -2, -1]\n",
            "Report: [19, 21, 23, 24, 27], Safe: 138, Difference: [2, 2, 1, 3]\n",
            "Report: [47, 44, 42, 39, 36, 34], Safe: 139, Difference: [-3, -2, -3, -3, -2]\n",
            "Report: [35, 36, 37, 38, 40, 42, 44, 46], Safe: 140, Difference: [1, 1, 1, 2, 2, 2, 2]\n",
            "Report: [70, 73, 75, 78, 79, 82, 84, 85], Safe: 141, Difference: [3, 2, 3, 1, 3, 2, 1]\n",
            "Report: [33, 34, 35, 36, 39, 40, 42], Safe: 142, Difference: [1, 1, 1, 3, 1, 2]\n",
            "Report: [71, 73, 76, 78, 80, 83, 85], Safe: 143, Difference: [2, 3, 2, 2, 3, 2]\n",
            "Report: [77, 75, 74, 73, 71, 68], Safe: 144, Difference: [-2, -1, -1, -2, -3]\n",
            "Report: [84, 82, 81, 78, 76, 75], Safe: 145, Difference: [-2, -1, -3, -2, -1]\n",
            "Report: [32, 31, 29, 28, 26, 23, 22], Safe: 146, Difference: [-1, -2, -1, -2, -3, -1]\n",
            "Report: [34, 31, 30, 28, 26], Safe: 147, Difference: [-3, -1, -2, -2]\n",
            "Report: [83, 82, 81, 80, 77, 74, 72], Safe: 148, Difference: [-1, -1, -1, -3, -3, -2]\n",
            "Report: [81, 79, 78, 77, 75, 74, 71], Safe: 149, Difference: [-2, -1, -1, -2, -1, -3]\n",
            "Report: [9, 12, 14, 16, 18, 19, 21], Safe: 150, Difference: [3, 2, 2, 2, 1, 2]\n",
            "Report: [30, 29, 28, 25, 24], Safe: 151, Difference: [-1, -1, -3, -1]\n",
            "Report: [46, 47, 48, 50, 52, 54, 57, 59], Safe: 152, Difference: [1, 1, 2, 2, 2, 3, 2]\n",
            "Report: [27, 25, 22, 19, 16, 14], Safe: 153, Difference: [-2, -3, -3, -3, -2]\n",
            "Report: [50, 48, 47, 44, 42], Safe: 154, Difference: [-2, -1, -3, -2]\n",
            "Report: [27, 24, 22, 21, 19, 18, 17, 15], Safe: 155, Difference: [-3, -2, -1, -2, -1, -1, -2]\n",
            "Report: [24, 25, 27, 30, 32, 35], Safe: 156, Difference: [1, 2, 3, 2, 3]\n",
            "Report: [54, 57, 59, 62, 65, 67, 69], Safe: 157, Difference: [3, 2, 3, 3, 2, 2]\n",
            "Report: [90, 88, 85, 83, 82, 81, 79, 76], Safe: 158, Difference: [-2, -3, -2, -1, -1, -2, -3]\n",
            "Report: [52, 50, 47, 44, 43, 42, 40, 39], Safe: 159, Difference: [-2, -3, -3, -1, -1, -2, -1]\n",
            "Report: [53, 56, 59, 61, 63, 65, 68, 70], Safe: 160, Difference: [3, 3, 2, 2, 2, 3, 2]\n",
            "Report: [75, 74, 72, 70, 69], Safe: 161, Difference: [-1, -2, -2, -1]\n",
            "Report: [71, 74, 75, 77, 78, 79, 82], Safe: 162, Difference: [3, 1, 2, 1, 1, 3]\n",
            "Report: [11, 14, 15, 17, 20, 22, 25, 26], Safe: 163, Difference: [3, 1, 2, 3, 2, 3, 1]\n",
            "Report: [23, 21, 19, 17, 16, 14, 12], Safe: 164, Difference: [-2, -2, -2, -1, -2, -2]\n",
            "Report: [83, 84, 86, 89, 92, 93], Safe: 165, Difference: [1, 2, 3, 3, 1]\n",
            "Report: [83, 80, 78, 77, 74, 71, 68, 67], Safe: 166, Difference: [-3, -2, -1, -3, -3, -3, -1]\n",
            "Report: [51, 52, 55, 57, 60, 63, 64, 66], Safe: 167, Difference: [1, 3, 2, 3, 3, 1, 2]\n",
            "Report: [60, 62, 64, 65, 68], Safe: 168, Difference: [2, 2, 1, 3]\n",
            "Report: [70, 68, 65, 63, 62, 60, 58], Safe: 169, Difference: [-2, -3, -2, -1, -2, -2]\n",
            "Report: [82, 83, 85, 86, 89, 90, 92, 93], Safe: 170, Difference: [1, 2, 1, 3, 1, 2, 1]\n",
            "Report: [62, 65, 68, 70, 72, 75, 76, 79], Safe: 171, Difference: [3, 3, 2, 2, 3, 1, 3]\n",
            "Report: [55, 57, 60, 63, 66, 67, 70, 71], Safe: 172, Difference: [2, 3, 3, 3, 1, 3, 1]\n",
            "Report: [23, 26, 29, 31, 34, 35, 36], Safe: 173, Difference: [3, 3, 2, 3, 1, 1]\n",
            "Report: [46, 48, 49, 52, 53, 56], Safe: 174, Difference: [2, 1, 3, 1, 3]\n",
            "Report: [44, 41, 38, 35, 33, 31, 28], Safe: 175, Difference: [-3, -3, -3, -2, -2, -3]\n",
            "Report: [74, 75, 77, 80, 82, 83], Safe: 176, Difference: [1, 2, 3, 2, 1]\n",
            "Report: [27, 30, 32, 33, 36, 39, 40, 43], Safe: 177, Difference: [3, 2, 1, 3, 3, 1, 3]\n",
            "Report: [39, 42, 43, 46, 49, 52, 55, 58], Safe: 178, Difference: [3, 1, 3, 3, 3, 3, 3]\n",
            "Report: [29, 27, 25, 22, 19], Safe: 179, Difference: [-2, -2, -3, -3]\n",
            "Report: [31, 34, 35, 38, 39, 40], Safe: 180, Difference: [3, 1, 3, 1, 1]\n",
            "Report: [57, 56, 53, 51, 50, 47], Safe: 181, Difference: [-1, -3, -2, -1, -3]\n",
            "Report: [36, 34, 33, 31, 29], Safe: 182, Difference: [-2, -1, -2, -2]\n",
            "Report: [76, 77, 78, 79, 80, 83, 84, 86], Safe: 183, Difference: [1, 1, 1, 1, 3, 1, 2]\n",
            "Report: [69, 70, 73, 76, 79, 82, 84], Safe: 184, Difference: [1, 3, 3, 3, 3, 2]\n",
            "Report: [84, 87, 90, 92, 93, 94], Safe: 185, Difference: [3, 3, 2, 1, 1]\n",
            "Report: [79, 78, 77, 74, 71, 68, 67], Safe: 186, Difference: [-1, -1, -3, -3, -3, -1]\n",
            "Report: [50, 51, 53, 55, 57, 60], Safe: 187, Difference: [1, 2, 2, 2, 3]\n",
            "Report: [43, 46, 49, 52, 53], Safe: 188, Difference: [3, 3, 3, 1]\n",
            "Report: [87, 86, 84, 83, 82, 79, 76, 74], Safe: 189, Difference: [-1, -2, -1, -1, -3, -3, -2]\n",
            "Report: [18, 15, 12, 11, 8, 7, 6, 4], Safe: 190, Difference: [-3, -3, -1, -3, -1, -1, -2]\n",
            "Report: [87, 85, 84, 83, 82], Safe: 191, Difference: [-2, -1, -1, -1]\n",
            "Report: [30, 33, 35, 38, 39], Safe: 192, Difference: [3, 2, 3, 1]\n",
            "Report: [76, 74, 72, 71, 68, 67, 64], Safe: 193, Difference: [-2, -2, -1, -3, -1, -3]\n",
            "Report: [56, 57, 59, 62, 63, 65], Safe: 194, Difference: [1, 2, 3, 1, 2]\n",
            "Report: [47, 49, 52, 53, 55, 56, 58, 61], Safe: 195, Difference: [2, 3, 1, 2, 1, 2, 3]\n",
            "Report: [63, 66, 67, 69, 70], Safe: 196, Difference: [3, 1, 2, 1]\n",
            "Report: [51, 52, 54, 56, 58, 61], Safe: 197, Difference: [1, 2, 2, 2, 3]\n",
            "Report: [73, 75, 78, 81, 82, 84, 86, 89], Safe: 198, Difference: [2, 3, 3, 1, 2, 2, 3]\n",
            "Report: [50, 51, 54, 57, 58, 60, 62], Safe: 199, Difference: [1, 3, 3, 1, 2, 2]\n",
            "Report: [92, 89, 86, 84, 82, 79], Safe: 200, Difference: [-3, -3, -2, -2, -3]\n",
            "Report: [45, 48, 51, 54, 57, 60], Safe: 201, Difference: [3, 3, 3, 3, 3]\n",
            "Report: [9, 12, 13, 15, 17, 18], Safe: 202, Difference: [3, 1, 2, 2, 1]\n",
            "Report: [13, 12, 9, 6, 5, 4, 2, 1], Safe: 203, Difference: [-1, -3, -3, -1, -1, -2, -1]\n",
            "Report: [26, 24, 22, 21, 18], Safe: 204, Difference: [-2, -2, -1, -3]\n",
            "Report: [57, 59, 61, 64, 67], Safe: 205, Difference: [2, 2, 3, 3]\n",
            "Report: [2, 5, 7, 9, 10, 12], Safe: 206, Difference: [3, 2, 2, 1, 2]\n",
            "Report: [11, 10, 8, 7, 6, 3], Safe: 207, Difference: [-1, -2, -1, -1, -3]\n",
            "Report: [45, 46, 48, 51, 53, 55, 56, 57], Safe: 208, Difference: [1, 2, 3, 2, 2, 1, 1]\n",
            "Report: [27, 28, 30, 33, 35, 36, 37], Safe: 209, Difference: [1, 2, 3, 2, 1, 1]\n",
            "Report: [23, 22, 21, 18, 15, 13, 10], Safe: 210, Difference: [-1, -1, -3, -3, -2, -3]\n",
            "Report: [72, 74, 75, 78, 81, 84, 86, 89], Safe: 211, Difference: [2, 1, 3, 3, 3, 2, 3]\n",
            "Report: [38, 40, 42, 45, 47], Safe: 212, Difference: [2, 2, 3, 2]\n",
            "Report: [1, 4, 7, 8, 10, 11, 14, 16], Safe: 213, Difference: [3, 3, 1, 2, 1, 3, 2]\n",
            "Report: [71, 73, 74, 75, 78, 80, 83, 85], Safe: 214, Difference: [2, 1, 1, 3, 2, 3, 2]\n",
            "Report: [16, 19, 20, 23, 26, 29], Safe: 215, Difference: [3, 1, 3, 3, 3]\n",
            "Report: [65, 64, 62, 61, 60, 59, 58, 56], Safe: 216, Difference: [-1, -2, -1, -1, -1, -1, -2]\n",
            "Report: [51, 49, 48, 45, 44, 42, 41], Safe: 217, Difference: [-2, -1, -3, -1, -2, -1]\n",
            "Report: [80, 81, 84, 87, 88, 90, 93], Safe: 218, Difference: [1, 3, 3, 1, 2, 3]\n",
            "Report: [37, 35, 34, 32, 31, 29], Safe: 219, Difference: [-2, -1, -2, -1, -2]\n",
            "Report: [89, 90, 91, 93, 94, 95, 96], Safe: 220, Difference: [1, 1, 2, 1, 1, 1]\n",
            "Report: [62, 64, 66, 69, 70, 72, 75, 78], Safe: 221, Difference: [2, 2, 3, 1, 2, 3, 3]\n",
            "Report: [85, 86, 89, 90, 91, 93], Safe: 222, Difference: [1, 3, 1, 1, 2]\n",
            "Report: [54, 52, 50, 47, 44, 42, 41, 39], Safe: 223, Difference: [-2, -2, -3, -3, -2, -1, -2]\n",
            "Report: [79, 80, 81, 83, 84, 86, 89], Safe: 224, Difference: [1, 1, 2, 1, 2, 3]\n",
            "Report: [15, 18, 21, 22, 25, 27, 30, 31], Safe: 225, Difference: [3, 3, 1, 3, 2, 3, 1]\n",
            "Report: [68, 65, 64, 62, 60, 58], Safe: 226, Difference: [-3, -1, -2, -2, -2]\n",
            "Report: [80, 81, 83, 84, 85, 87, 90], Safe: 227, Difference: [1, 2, 1, 1, 2, 3]\n",
            "Report: [53, 54, 55, 57, 58], Safe: 228, Difference: [1, 1, 2, 1]\n",
            "Report: [20, 21, 24, 25, 28, 30, 33, 35], Safe: 229, Difference: [1, 3, 1, 3, 2, 3, 2]\n",
            "Report: [78, 79, 82, 85, 86], Safe: 230, Difference: [1, 3, 3, 1]\n",
            "Report: [12, 15, 17, 19, 21, 24, 26], Safe: 231, Difference: [3, 2, 2, 2, 3, 2]\n",
            "Report: [36, 33, 32, 30, 28, 26, 25], Safe: 232, Difference: [-3, -1, -2, -2, -2, -1]\n",
            "Report: [68, 70, 73, 75, 78, 81, 82], Safe: 233, Difference: [2, 3, 2, 3, 3, 1]\n",
            "Report: [33, 32, 30, 27, 24, 23, 20], Safe: 234, Difference: [-1, -2, -3, -3, -1, -3]\n",
            "Report: [32, 31, 30, 29, 26], Safe: 235, Difference: [-1, -1, -1, -3]\n",
            "Report: [82, 79, 76, 75, 74, 72, 71], Safe: 236, Difference: [-3, -3, -1, -1, -2, -1]\n",
            "Report: [37, 34, 31, 28, 25, 24], Safe: 237, Difference: [-3, -3, -3, -3, -1]\n",
            "Report: [55, 58, 59, 62, 64, 65, 68, 69], Safe: 238, Difference: [3, 1, 3, 2, 1, 3, 1]\n",
            "Report: [27, 28, 31, 33, 36, 38, 41], Safe: 239, Difference: [1, 3, 2, 3, 2, 3]\n",
            "Report: [60, 59, 58, 56, 55, 53, 52], Safe: 240, Difference: [-1, -1, -2, -1, -2, -1]\n",
            "Report: [81, 78, 76, 74, 72, 69], Safe: 241, Difference: [-3, -2, -2, -2, -3]\n",
            "Report: [72, 70, 68, 65, 64, 63, 60], Safe: 242, Difference: [-2, -2, -3, -1, -1, -3]\n",
            "Report: [43, 41, 40, 37, 34, 31], Safe: 243, Difference: [-2, -1, -3, -3, -3]\n",
            "Report: [66, 69, 70, 73, 76], Safe: 244, Difference: [3, 1, 3, 3]\n",
            "Report: [24, 25, 28, 31, 32, 34], Safe: 245, Difference: [1, 3, 3, 1, 2]\n",
            "Report: [69, 70, 72, 75, 78, 81], Safe: 246, Difference: [1, 2, 3, 3, 3]\n",
            "Report: [26, 27, 29, 31, 33, 34], Safe: 247, Difference: [1, 2, 2, 2, 1]\n",
            "Report: [7, 8, 10, 12, 15, 16], Safe: 248, Difference: [1, 2, 2, 3, 1]\n",
            "Report: [61, 64, 65, 66, 67, 68, 71], Safe: 249, Difference: [3, 1, 1, 1, 1, 3]\n",
            "Report: [65, 62, 60, 58, 57, 55], Safe: 250, Difference: [-3, -2, -2, -1, -2]\n",
            "Report: [15, 18, 21, 23, 24, 26, 28, 31], Safe: 251, Difference: [3, 3, 2, 1, 2, 2, 3]\n",
            "Report: [89, 90, 92, 93, 94, 96, 97], Safe: 252, Difference: [1, 2, 1, 1, 2, 1]\n",
            "Report: [17, 20, 22, 24, 27], Safe: 253, Difference: [3, 2, 2, 3]\n",
            "Report: [45, 44, 41, 39, 37], Safe: 254, Difference: [-1, -3, -2, -2]\n",
            "Report: [53, 55, 58, 60, 62, 64], Safe: 255, Difference: [2, 3, 2, 2, 2]\n",
            "Report: [18, 17, 16, 15, 14, 11, 9], Safe: 256, Difference: [-1, -1, -1, -1, -3, -2]\n",
            "Report: [60, 61, 64, 66, 69, 72], Safe: 257, Difference: [1, 3, 2, 3, 3]\n",
            "Report: [90, 88, 87, 86, 84, 81, 79, 77], Safe: 258, Difference: [-2, -1, -1, -2, -3, -2, -2]\n",
            "Report: [49, 52, 53, 56, 58, 61, 63], Safe: 259, Difference: [3, 1, 3, 2, 3, 2]\n",
            "Report: [84, 82, 81, 80, 78, 76], Safe: 260, Difference: [-2, -1, -1, -2, -2]\n",
            "Report: [15, 13, 12, 11, 9, 8, 5], Safe: 261, Difference: [-2, -1, -1, -2, -1, -3]\n",
            "Report: [11, 13, 15, 17, 19, 22, 24, 27], Safe: 262, Difference: [2, 2, 2, 2, 3, 2, 3]\n",
            "Report: [85, 82, 80, 77, 75, 72, 70], Safe: 263, Difference: [-3, -2, -3, -2, -3, -2]\n",
            "Report: [51, 54, 57, 59, 62, 65], Safe: 264, Difference: [3, 3, 2, 3, 3]\n",
            "Report: [86, 83, 82, 81, 79, 78, 77], Safe: 265, Difference: [-3, -1, -1, -2, -1, -1]\n",
            "Report: [25, 22, 20, 18, 16], Safe: 266, Difference: [-3, -2, -2, -2]\n",
            "Report: [69, 67, 64, 61, 58, 55, 52], Safe: 267, Difference: [-2, -3, -3, -3, -3, -3]\n",
            "Report: [61, 59, 58, 57, 55], Safe: 268, Difference: [-2, -1, -1, -2]\n",
            "Report: [97, 95, 94, 91, 88, 85, 84, 83], Safe: 269, Difference: [-2, -1, -3, -3, -3, -1, -1]\n",
            "Report: [73, 72, 69, 68, 65, 62], Safe: 270, Difference: [-1, -3, -1, -3, -3]\n",
            "Report: [56, 58, 61, 62, 63, 64, 65, 67], Safe: 271, Difference: [2, 3, 1, 1, 1, 1, 2]\n",
            "Report: [31, 34, 36, 37, 39, 41], Safe: 272, Difference: [3, 2, 1, 2, 2]\n",
            "Report: [95, 94, 91, 89, 88, 87], Safe: 273, Difference: [-1, -3, -2, -1, -1]\n",
            "Report: [71, 72, 73, 76, 77, 79, 82, 85], Safe: 274, Difference: [1, 1, 3, 1, 2, 3, 3]\n",
            "Report: [44, 47, 49, 52, 55], Safe: 275, Difference: [3, 2, 3, 3]\n",
            "Report: [69, 70, 72, 75, 77], Safe: 276, Difference: [1, 2, 3, 2]\n",
            "Report: [65, 68, 69, 72, 75, 77, 79], Safe: 277, Difference: [3, 1, 3, 3, 2, 2]\n",
            "Report: [33, 32, 29, 28, 27, 26], Safe: 278, Difference: [-1, -3, -1, -1, -1]\n",
            "Report: [78, 77, 75, 73, 71, 70, 69, 68], Safe: 279, Difference: [-1, -2, -2, -2, -1, -1, -1]\n",
            "Report: [44, 46, 48, 49, 52, 53, 54], Safe: 280, Difference: [2, 2, 1, 3, 1, 1]\n",
            "Report: [56, 53, 51, 48, 47, 46], Safe: 281, Difference: [-3, -2, -3, -1, -1]\n",
            "Report: [50, 52, 53, 55, 58, 60, 63, 66], Safe: 282, Difference: [2, 1, 2, 3, 2, 3, 3]\n",
            "Report: [35, 36, 37, 40, 43, 46, 48, 51], Safe: 283, Difference: [1, 1, 3, 3, 3, 2, 3]\n",
            "Report: [32, 35, 37, 39, 42], Safe: 284, Difference: [3, 2, 2, 3]\n",
            "Report: [17, 14, 13, 10, 7, 6], Safe: 285, Difference: [-3, -1, -3, -3, -1]\n",
            "Report: [50, 53, 55, 57, 58, 59, 60, 63], Safe: 286, Difference: [3, 2, 2, 1, 1, 1, 3]\n",
            "Report: [26, 29, 32, 33, 35], Safe: 287, Difference: [3, 3, 1, 2]\n",
            "Report: [62, 63, 65, 66, 67, 70, 72, 73], Safe: 288, Difference: [1, 2, 1, 1, 3, 2, 1]\n",
            "Report: [65, 66, 69, 72, 73, 75], Safe: 289, Difference: [1, 3, 3, 1, 2]\n",
            "Report: [41, 39, 37, 36, 35, 34, 32, 29], Safe: 290, Difference: [-2, -2, -1, -1, -1, -2, -3]\n",
            "Report: [77, 74, 72, 70, 67, 66, 65, 62], Safe: 291, Difference: [-3, -2, -2, -3, -1, -1, -3]\n",
            "Report: [89, 91, 92, 95, 96, 98, 99], Safe: 292, Difference: [2, 1, 3, 1, 2, 1]\n",
            "Report: [21, 19, 17, 15, 13, 10], Safe: 293, Difference: [-2, -2, -2, -2, -3]\n",
            "Report: [75, 78, 79, 80, 83, 85, 88, 91], Safe: 294, Difference: [3, 1, 1, 3, 2, 3, 3]\n",
            "Report: [12, 13, 14, 15, 17, 18, 19, 22], Safe: 295, Difference: [1, 1, 1, 2, 1, 1, 3]\n",
            "Report: [23, 20, 19, 17, 14], Safe: 296, Difference: [-3, -1, -2, -3]\n",
            "Report: [55, 52, 49, 47, 45, 44], Safe: 297, Difference: [-3, -3, -2, -2, -1]\n",
            "Report: [33, 30, 29, 27, 24, 22, 20], Safe: 298, Difference: [-3, -1, -2, -3, -2, -2]\n",
            "Report: [92, 91, 90, 87, 84, 81, 78], Safe: 299, Difference: [-1, -1, -3, -3, -3, -3]\n",
            "Report: [54, 55, 58, 61, 64, 66, 69, 71], Safe: 300, Difference: [1, 3, 3, 3, 2, 3, 2]\n",
            "Report: [66, 68, 70, 72, 75, 77], Safe: 301, Difference: [2, 2, 2, 3, 2]\n",
            "Report: [37, 34, 31, 28, 26], Safe: 302, Difference: [-3, -3, -3, -2]\n",
            "Report: [74, 76, 79, 81, 82, 85], Safe: 303, Difference: [2, 3, 2, 1, 3]\n",
            "Report: [39, 36, 35, 32, 31, 29, 26, 25], Safe: 304, Difference: [-3, -1, -3, -1, -2, -3, -1]\n",
            "Report: [55, 54, 51, 48, 46, 45], Safe: 305, Difference: [-1, -3, -3, -2, -1]\n",
            "Report: [20, 19, 17, 14, 12, 9], Safe: 306, Difference: [-1, -2, -3, -2, -3]\n",
            "Report: [71, 70, 69, 66, 64], Safe: 307, Difference: [-1, -1, -3, -2]\n",
            "Report: [11, 9, 6, 5, 4, 2, 1], Safe: 308, Difference: [-2, -3, -1, -1, -2, -1]\n",
            "Report: [66, 63, 62, 59, 57, 55, 54], Safe: 309, Difference: [-3, -1, -3, -2, -2, -1]\n",
            "Report: [59, 56, 53, 52, 49, 46, 43, 42], Safe: 310, Difference: [-3, -3, -1, -3, -3, -3, -1]\n",
            "Report: [66, 67, 70, 71, 74, 76, 79], Safe: 311, Difference: [1, 3, 1, 3, 2, 3]\n",
            "Report: [23, 22, 21, 20, 18, 17], Safe: 312, Difference: [-1, -1, -1, -2, -1]\n",
            "Report: [86, 83, 81, 78, 77, 75], Safe: 313, Difference: [-3, -2, -3, -1, -2]\n",
            "Report: [38, 39, 40, 41, 42], Safe: 314, Difference: [1, 1, 1, 1]\n",
            "Report: [42, 41, 39, 37, 34], Safe: 315, Difference: [-1, -2, -2, -3]\n",
            "Report: [62, 60, 58, 56, 54], Safe: 316, Difference: [-2, -2, -2, -2]\n",
            "Report: [92, 91, 89, 86, 84, 83, 81], Safe: 317, Difference: [-1, -2, -3, -2, -1, -2]\n",
            "Report: [31, 33, 36, 37, 40, 42, 43, 44], Safe: 318, Difference: [2, 3, 1, 3, 2, 1, 1]\n",
            "Report: [35, 32, 31, 28, 26, 25], Safe: 319, Difference: [-3, -1, -3, -2, -1]\n",
            "Report: [62, 61, 60, 59, 57, 56, 53], Safe: 320, Difference: [-1, -1, -1, -2, -1, -3]\n",
            "Report: [65, 64, 62, 61, 60, 57, 55], Safe: 321, Difference: [-1, -2, -1, -1, -3, -2]\n",
            "Report: [78, 76, 75, 73, 71], Safe: 322, Difference: [-2, -1, -2, -2]\n",
            "Report: [95, 94, 92, 89, 88, 86], Safe: 323, Difference: [-1, -2, -3, -1, -2]\n",
            "Report: [54, 51, 50, 47, 46, 44, 43], Safe: 324, Difference: [-3, -1, -3, -1, -2, -1]\n",
            "Report: [58, 61, 62, 65, 67, 70, 73], Safe: 325, Difference: [3, 1, 3, 2, 3, 3]\n",
            "Report: [40, 37, 34, 33, 32, 31], Safe: 326, Difference: [-3, -3, -1, -1, -1]\n",
            "Report: [47, 50, 53, 54, 57, 58, 60, 61], Safe: 327, Difference: [3, 3, 1, 3, 1, 2, 1]\n",
            "Report: [59, 58, 55, 53, 52], Safe: 328, Difference: [-1, -3, -2, -1]\n",
            "Part 2: 328\n"
          ]
        }
      ]
    },
    {
      "cell_type": "code",
      "source": [],
      "metadata": {
        "id": "tcTWuaphTxqO"
      },
      "execution_count": 16,
      "outputs": []
    },
    {
      "cell_type": "markdown",
      "source": [
        "# Day 3 year 2024"
      ],
      "metadata": {
        "id": "RUVmUYOpd6Cm"
      }
    },
    {
      "cell_type": "markdown",
      "source": [
        "## Setup test input and test data"
      ],
      "metadata": {
        "id": "G8HWluN6d6Cm"
      }
    },
    {
      "cell_type": "code",
      "source": [
        "day = 3\n",
        "setup_dir(day)\n",
        "get_input(day,2024)\n",
        "input = open(f\"day0{day}/input.txt\").read()\n",
        "test_input = \"\"\"xmul(2,4)%&mul[3,7]!@^do_not_mul(5,5)+mul(32,64]then(mul(11,8)mul(8,5))\"\"\""
      ],
      "metadata": {
        "colab": {
          "base_uri": "https://localhost:8080/"
        },
        "id": "-yOcAJPVd6Cm",
        "outputId": "c53ed01f-5dd0-4177-ee95-00e8d6ff8744"
      },
      "execution_count": 17,
      "outputs": [
        {
          "output_type": "stream",
          "name": "stderr",
          "text": [
            "WARNING:__main__:day03/input.txt already exists, skip download\n"
          ]
        }
      ]
    },
    {
      "cell_type": "code",
      "source": [
        "def prepare_input(input):\n",
        "# prepare input\n",
        "# return left and right list of integers\n",
        "  return input"
      ],
      "metadata": {
        "id": "qNRO42yFd6Cm"
      },
      "execution_count": 18,
      "outputs": []
    },
    {
      "cell_type": "code",
      "source": [
        "memory  = prepare_input(input)"
      ],
      "metadata": {
        "id": "IrDki2xrd6Cm"
      },
      "execution_count": 19,
      "outputs": []
    },
    {
      "cell_type": "markdown",
      "source": [
        "## Part 1"
      ],
      "metadata": {
        "id": "Zo51GhIKd6Cm"
      }
    },
    {
      "cell_type": "code",
      "source": [
        "import re\n",
        "\n",
        "pattern = r'mul\\((\\d{1,3}),(\\d{1,3})\\)'\n",
        "\n",
        "print(sum(x * y for x, y in [map(int, mul) for mul in re.findall(pattern, input)]))\n",
        "\n"
      ],
      "metadata": {
        "colab": {
          "base_uri": "https://localhost:8080/"
        },
        "id": "88ASwH--d6Cn",
        "outputId": "5cf374ef-7cba-4742-860e-ea4f6a8d823c"
      },
      "execution_count": 20,
      "outputs": [
        {
          "output_type": "stream",
          "name": "stdout",
          "text": [
            "180233229\n"
          ]
        }
      ]
    },
    {
      "cell_type": "markdown",
      "source": [
        "##Part 2"
      ],
      "metadata": {
        "id": "LOJWdUZ6d6Cn"
      }
    },
    {
      "cell_type": "code",
      "source": [
        "new_pattern =  r\"mul\\(\\d+,\\d+\\)|do\\(\\)|don't\\(\\)\"\n",
        "\n",
        "test_input = \"\"\"xmul(2,4)&mul[3,7]!^don't()_mul(5,5)+mul(32,64](mul(11,8)undo()?mul(8,5))\"\"\"\n",
        "memory = prepare_input(input)\n",
        "\n",
        "suma = 0\n",
        "follow = True\n",
        "\n",
        "for found in re.findall(new_pattern, input):\n",
        "  match found:\n",
        "      case \"do()\":\n",
        "          follow = True\n",
        "      case \"don't()\":\n",
        "          follow = False\n",
        "      case _:\n",
        "          if follow:\n",
        "              x, y = map(int, found[4:-1].split(','))\n",
        "              suma += x * y\n",
        "\n",
        "print(suma)"
      ],
      "metadata": {
        "colab": {
          "base_uri": "https://localhost:8080/"
        },
        "id": "PEY0A_11d6Cn",
        "outputId": "a84a385e-815e-4c9d-a304-1573adb01402"
      },
      "execution_count": 21,
      "outputs": [
        {
          "output_type": "stream",
          "name": "stdout",
          "text": [
            "95411583\n"
          ]
        }
      ]
    },
    {
      "cell_type": "code",
      "source": [],
      "metadata": {
        "id": "zcprSWylqsWt"
      },
      "execution_count": 21,
      "outputs": []
    }
  ]
}