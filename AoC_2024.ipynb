{
  "nbformat": 4,
  "nbformat_minor": 0,
  "metadata": {
    "colab": {
      "provenance": [],
      "authorship_tag": "ABX9TyNZP5oHSQcvm6+ozMr2Mloz",
      "include_colab_link": true
    },
    "kernelspec": {
      "name": "python3",
      "display_name": "Python 3"
    },
    "language_info": {
      "name": "python"
    }
  },
  "cells": [
    {
      "cell_type": "markdown",
      "metadata": {
        "id": "view-in-github",
        "colab_type": "text"
      },
      "source": [
        "<a href=\"https://colab.research.google.com/github/koperak/Advent-of-Code-2024/blob/main/AoC_2024.ipynb\" target=\"_parent\"><img src=\"https://colab.research.google.com/assets/colab-badge.svg\" alt=\"Open In Colab\"/></a>"
      ]
    },
    {
      "cell_type": "markdown",
      "source": [
        "Initialize support"
      ],
      "metadata": {
        "id": "OM-pEnq2mRLQ"
      }
    },
    {
      "cell_type": "code",
      "source": [
        "import os\n",
        "from pathlib import Path\n",
        "from shutil import copyfile\n",
        "import requests\n",
        "from datetime import date\n",
        "import logging\n",
        "from argparse import ArgumentParser\n",
        "\n",
        "logging.basicConfig(\n",
        "    level=logging.INFO, format=\"%(levelname)-8s %(funcName)s: %(message)s\",\n",
        ")\n",
        "logger = logging.getLogger(__name__)\n",
        "\n",
        "\n",
        "BASE_DIR = \"sample_data\"\n",
        "TEMPLATES_DIR = BASE_DIR + \"/templates\"\n",
        "\n",
        "\n",
        "def setup_dir(day):\n",
        "  newdir = Path(f\"day{day:02d}\")\n",
        "  if not newdir.exists():\n",
        "      os.mkdir(newdir)\n",
        "      logger.info(f\"created a new directory {newdir}\")\n",
        "  logger.info(f\"done copying templates to {newdir}\")\n",
        "\n",
        "\n",
        "def get_input(day, year):\n",
        "\n",
        "  from google.colab import userdata\n",
        "\n",
        "  cookie = userdata.get('AOC_SESSION')\n",
        "\n",
        "  if not cookie:\n",
        "      logger.warning(\"no environment variable 'AOC_SESSION' found! skipping download\")\n",
        "      return\n",
        "\n",
        "  url = f\"https://adventofcode.com/{year}/day/{day}/input\"\n",
        "  dayfolder = f\"day{day:02d}\"\n",
        "  if \"input.txt\" in os.listdir(dayfolder):\n",
        "      logger.warning(f\"{dayfolder}/input.txt already exists, skip download\")\n",
        "      return\n",
        "\n",
        "  logger.info(f\"download input from {url}... \")\n",
        "  try:\n",
        "      response = requests.get(\n",
        "          url=url,\n",
        "          cookies={\"session\": cookie},\n",
        "          headers={\"User-Agent\": \"https://github.com/davekch/aoc by dave-koch@web.de\"},\n",
        "      )\n",
        "      if response.ok:\n",
        "          data = response.text\n",
        "          f = open(Path(dayfolder) / \"input.txt\", \"w+\")\n",
        "          f.write(data.rstrip(\"\\n\"))\n",
        "          f.close()\n",
        "          logger.info(\"... done!\")\n",
        "      else:\n",
        "          logger.error(\"server response not ok\")\n",
        "  except:\n",
        "      logger.error(\"something went wrong\")\n"
      ],
      "metadata": {
        "id": "62uovfBmmNsj"
      },
      "execution_count": 1,
      "outputs": []
    },
    {
      "cell_type": "markdown",
      "source": [
        "Day 1 year 2024"
      ],
      "metadata": {
        "id": "U04jfLLW4evk"
      }
    },
    {
      "cell_type": "markdown",
      "source": [
        "Setup test input and test data"
      ],
      "metadata": {
        "id": "5SwzXE-D_L_h"
      }
    },
    {
      "cell_type": "code",
      "source": [
        "setup_dir(1)\n",
        "get_input(1,2024)\n",
        "input = open(\"day01/input.txt\").read().splitlines()\n",
        "test_input = \"\"\"3   4\n",
        "4   3\n",
        "2   5\n",
        "1   3\n",
        "3   9\n",
        "3   3\"\"\"\n",
        "test_input = test_input.split(\"\\n\")"
      ],
      "metadata": {
        "id": "oK9FDcBionfQ"
      },
      "execution_count": 2,
      "outputs": []
    },
    {
      "cell_type": "code",
      "source": [],
      "metadata": {
        "id": "cLmZDVk28SAW"
      },
      "execution_count": 2,
      "outputs": []
    },
    {
      "cell_type": "code",
      "source": [
        "def prepare_input(input):\n",
        "# prepare input\n",
        "# return left and right list of integers\n",
        "  _list_a, _list_b = zip(*[map(int, row.split(\"   \")) for row in input])\n",
        "  return _list_a, _list_b"
      ],
      "metadata": {
        "id": "2MzAo05PrCDl"
      },
      "execution_count": 3,
      "outputs": []
    },
    {
      "cell_type": "markdown",
      "source": [
        "Part 1"
      ],
      "metadata": {
        "id": "pfPbV4Z8Da7m"
      }
    },
    {
      "cell_type": "code",
      "source": [],
      "metadata": {
        "id": "1QyEIgwONCst"
      },
      "execution_count": 3,
      "outputs": []
    },
    {
      "cell_type": "code",
      "source": [
        "left_list, right_list  = prepare_input(input)"
      ],
      "metadata": {
        "id": "Y4fSK2ZSFG-Z"
      },
      "execution_count": 4,
      "outputs": []
    },
    {
      "cell_type": "code",
      "source": [
        "sum(map(lambda x,y: abs(x - y), sorted(left_list), sorted(right_list)))"
      ],
      "metadata": {
        "colab": {
          "base_uri": "https://localhost:8080/"
        },
        "id": "X44O3Kyf45jt",
        "outputId": "7813a7fe-95d5-4f55-feb6-9917fd0412a5"
      },
      "execution_count": 5,
      "outputs": [
        {
          "output_type": "execute_result",
          "data": {
            "text/plain": [
              "1258579"
            ]
          },
          "metadata": {},
          "execution_count": 5
        }
      ]
    },
    {
      "cell_type": "markdown",
      "source": [
        "Part 2"
      ],
      "metadata": {
        "id": "g6kLst4o_k6l"
      }
    },
    {
      "cell_type": "code",
      "source": [
        "from collections import OrderedDict, Counter\n",
        "similarity_scores = Counter(right_list)"
      ],
      "metadata": {
        "id": "V5GTO05N57ce"
      },
      "execution_count": 6,
      "outputs": []
    },
    {
      "cell_type": "code",
      "source": [
        "sum(map(lambda first_number: first_number * similarity_scores.get(first_number,0), left_list))"
      ],
      "metadata": {
        "colab": {
          "base_uri": "https://localhost:8080/"
        },
        "id": "5ycoYE5O7u3e",
        "outputId": "99a0d68b-7971-4ef3-98e6-938619be1270"
      },
      "execution_count": 7,
      "outputs": [
        {
          "output_type": "execute_result",
          "data": {
            "text/plain": [
              "23981443"
            ]
          },
          "metadata": {},
          "execution_count": 7
        }
      ]
    },
    {
      "cell_type": "code",
      "source": [],
      "metadata": {
        "id": "9nUbUPeX9v37"
      },
      "execution_count": 7,
      "outputs": []
    },
    {
      "cell_type": "markdown",
      "source": [
        "# Day 2 year 2024"
      ],
      "metadata": {
        "id": "ykfQwRie6eOq"
      }
    },
    {
      "cell_type": "markdown",
      "source": [
        "## Setup test input and test data"
      ],
      "metadata": {
        "id": "oWXSYkpi6eOq"
      }
    },
    {
      "cell_type": "code",
      "source": [
        "setup_dir(2)\n",
        "get_input(2,2024)\n",
        "input = open(\"day02/input.txt\").read().splitlines()\n",
        "test_input = \"\"\"7 6 4 2 1\n",
        "1 2 7 8 9\n",
        "9 7 6 2 1\n",
        "1 3 2 4 5\n",
        "8 6 4 4 1\n",
        "1 3 6 7 9\"\"\"\n",
        "test_input = test_input.split(\"\\n\")"
      ],
      "metadata": {
        "id": "Knz8hfc-6eOq"
      },
      "execution_count": 8,
      "outputs": []
    },
    {
      "cell_type": "code",
      "source": [],
      "metadata": {
        "id": "7f4vrPNX6eOq"
      },
      "execution_count": 8,
      "outputs": []
    },
    {
      "cell_type": "code",
      "source": [
        "def prepare_input(input):\n",
        "# prepare input\n",
        "# return left and right list of integers\n",
        "  _list = [list(map(int, row.split())) for row in input]\n",
        "  return _list"
      ],
      "metadata": {
        "id": "m2-Lb5bX6eOr"
      },
      "execution_count": 9,
      "outputs": []
    },
    {
      "cell_type": "code",
      "source": [
        "reports  = prepare_input(input)"
      ],
      "metadata": {
        "id": "cHxhIgja6eOr"
      },
      "execution_count": 10,
      "outputs": []
    },
    {
      "cell_type": "markdown",
      "source": [
        "## Part 1"
      ],
      "metadata": {
        "id": "-uI1--Hf6eOr"
      }
    },
    {
      "cell_type": "code",
      "source": [
        "differences = [[y - x for x, y in zip(report, report[1:])] for report in reports]"
      ],
      "metadata": {
        "id": "ZvC2TSBc6eOr"
      },
      "execution_count": 11,
      "outputs": []
    },
    {
      "cell_type": "code",
      "source": [
        "def is_increasing_or_decreasing_and_between2_3(difference):\n",
        "  is_increasing = all(diff > 0 for diff in difference)\n",
        "  is_decreasing = all(diff < 0 for diff in difference)\n",
        "  is_between2_3 = all(1 <= abs(diff) <= 3 for diff in difference)\n",
        "  return (is_increasing or is_decreasing) and is_between2_3"
      ],
      "metadata": {
        "id": "rKOwSrY285oo"
      },
      "execution_count": 12,
      "outputs": []
    },
    {
      "cell_type": "code",
      "source": [
        "safe = 0\n",
        "for difference in differences:\n",
        "  if is_increasing_or_decreasing_and_between2_3(difference):\n",
        "    safe = safe + 1\n",
        "\n",
        "print(f'Part 1: {safe}')"
      ],
      "metadata": {
        "colab": {
          "base_uri": "https://localhost:8080/"
        },
        "id": "JQj4UxaOBMH1",
        "outputId": "0ef60445-9a2d-4dbc-c311-0ca63dff3f94"
      },
      "execution_count": 13,
      "outputs": [
        {
          "output_type": "stream",
          "name": "stdout",
          "text": [
            "Part 1: 257\n"
          ]
        }
      ]
    },
    {
      "cell_type": "markdown",
      "source": [
        "##Part 2"
      ],
      "metadata": {
        "id": "r7EiBGMz6eOr"
      }
    },
    {
      "cell_type": "code",
      "source": [
        "def remove_one(input_list):\n",
        "  \"\"\" input_list: list of integers\n",
        "      retuns: yelds evety combinatnion of input_list with one element removed\n",
        "  \"\"\"\n",
        "  for i in range(len(input_list)):\n",
        "    yield input_list[:i] + input_list[i+1:]"
      ],
      "metadata": {
        "id": "cet3kNhr6eOr"
      },
      "execution_count": 14,
      "outputs": []
    },
    {
      "cell_type": "code",
      "source": [
        "def calc_differences(input_list):\n",
        "  return [y - x for x, y in zip(input_list, input_list[1:])]"
      ],
      "metadata": {
        "id": "oTcaLRhnZUsu"
      },
      "execution_count": 15,
      "outputs": []
    },
    {
      "cell_type": "code",
      "source": [
        "safe = 0\n",
        "for report in reports:\n",
        "  difference = calc_differences(report)\n",
        "  if is_increasing_or_decreasing_and_between2_3(difference):\n",
        "    safe = safe + 1\n",
        "  else:\n",
        "    for one_removed in remove_one(report):\n",
        "      difference = calc_differences(one_removed)\n",
        "      if is_increasing_or_decreasing_and_between2_3(difference):\n",
        "        safe = safe + 1\n",
        "        break\n",
        "\n",
        "print(f'Part 2: {safe}')"
      ],
      "metadata": {
        "colab": {
          "base_uri": "https://localhost:8080/"
        },
        "outputId": "fccd110d-a247-421b-f22c-7350a88839fd",
        "id": "DhL4IlKI6eOs"
      },
      "execution_count": 16,
      "outputs": [
        {
          "output_type": "stream",
          "name": "stdout",
          "text": [
            "Part 2: 328\n"
          ]
        }
      ]
    },
    {
      "cell_type": "code",
      "source": [],
      "metadata": {
        "id": "tcTWuaphTxqO"
      },
      "execution_count": 16,
      "outputs": []
    },
    {
      "cell_type": "markdown",
      "source": [
        "# Day 3 year 2024"
      ],
      "metadata": {
        "id": "RUVmUYOpd6Cm"
      }
    },
    {
      "cell_type": "code",
      "source": [],
      "metadata": {
        "id": "jv5dB5-teTvs"
      },
      "execution_count": 16,
      "outputs": []
    },
    {
      "cell_type": "markdown",
      "source": [
        "## Setup test input and test data"
      ],
      "metadata": {
        "id": "G8HWluN6d6Cm"
      }
    },
    {
      "cell_type": "code",
      "source": [
        "day = 3\n",
        "setup_dir(day)\n",
        "get_input(day,2024)\n",
        "input = open(f\"day0{day}/input.txt\").read()\n",
        "test_input = \"\"\"xmul(2,4)%&mul[3,7]!@^do_not_mul(5,5)+mul(32,64]then(mul(11,8)mul(8,5))\"\"\""
      ],
      "metadata": {
        "id": "-yOcAJPVd6Cm"
      },
      "execution_count": 17,
      "outputs": []
    },
    {
      "cell_type": "code",
      "source": [
        "def prepare_input(input):\n",
        "# prepare input\n",
        "# return left and right list of integers\n",
        "  return input"
      ],
      "metadata": {
        "id": "qNRO42yFd6Cm"
      },
      "execution_count": 18,
      "outputs": []
    },
    {
      "cell_type": "code",
      "source": [
        "memory  = prepare_input(input)"
      ],
      "metadata": {
        "id": "IrDki2xrd6Cm"
      },
      "execution_count": 19,
      "outputs": []
    },
    {
      "cell_type": "markdown",
      "source": [
        "## Part 1"
      ],
      "metadata": {
        "id": "Zo51GhIKd6Cm"
      }
    },
    {
      "cell_type": "code",
      "source": [
        "import re\n",
        "\n",
        "pattern = r'mul\\((\\d{1,3}),(\\d{1,3})\\)'\n",
        "\n",
        "print(sum(x * y for x, y in [map(int, mul) for mul in re.findall(pattern, input)]))\n",
        "\n"
      ],
      "metadata": {
        "colab": {
          "base_uri": "https://localhost:8080/"
        },
        "id": "88ASwH--d6Cn",
        "outputId": "910ca4fd-322e-427d-b1ae-c2c5c1e7411c"
      },
      "execution_count": 20,
      "outputs": [
        {
          "output_type": "stream",
          "name": "stdout",
          "text": [
            "180233229\n"
          ]
        }
      ]
    },
    {
      "cell_type": "markdown",
      "source": [
        "##Part 2"
      ],
      "metadata": {
        "id": "LOJWdUZ6d6Cn"
      }
    },
    {
      "cell_type": "code",
      "source": [
        "new_pattern =  r\"mul\\(\\d+,\\d+\\)|do\\(\\)|don't\\(\\)\"\n",
        "\n",
        "test_input = \"\"\"xmul(2,4)&mul[3,7]!^don't()_mul(5,5)+mul(32,64](mul(11,8)undo()?mul(8,5))\"\"\"\n",
        "memory = prepare_input(input)\n",
        "\n",
        "suma = 0\n",
        "follow = True\n",
        "\n",
        "for found in re.findall(new_pattern, input):\n",
        "  match found:\n",
        "      case \"do()\":\n",
        "          follow = True\n",
        "      case \"don't()\":\n",
        "          follow = False\n",
        "      case _:\n",
        "          if follow:\n",
        "              x, y = map(int, found[4:-1].split(','))\n",
        "              suma += x * y\n",
        "\n",
        "print(suma)"
      ],
      "metadata": {
        "colab": {
          "base_uri": "https://localhost:8080/"
        },
        "id": "PEY0A_11d6Cn",
        "outputId": "9dc03e8a-68d1-4214-be85-ae0cb7002ba9"
      },
      "execution_count": 21,
      "outputs": [
        {
          "output_type": "stream",
          "name": "stdout",
          "text": [
            "95411583\n"
          ]
        }
      ]
    },
    {
      "cell_type": "code",
      "source": [],
      "metadata": {
        "id": "zcprSWylqsWt"
      },
      "execution_count": 21,
      "outputs": []
    },
    {
      "cell_type": "markdown",
      "source": [
        "# Day 4 year 2024"
      ],
      "metadata": {
        "id": "OBDAJJqieZR4"
      }
    },
    {
      "cell_type": "markdown",
      "source": [
        "## Setup test input and test data"
      ],
      "metadata": {
        "id": "QHe30nAIeZR5"
      }
    },
    {
      "cell_type": "code",
      "source": [
        "day = 4\n",
        "setup_dir(day)\n",
        "get_input(day,2024)\n",
        "input = open(f\"day0{day}/input.txt\").read()\n",
        "test_input = \"\"\"MMMSXXMASM\n",
        "MSAMXMSMSA\n",
        "AMXSXMAAMM\n",
        "MSAMASMSMX\n",
        "XMASAMXAMM\n",
        "XXAMMXXAMA\n",
        "SMSMSASXSS\n",
        "SAXAMASAAA\n",
        "MAMMMXMMMM\n",
        "MXMXAXMASX\"\"\""
      ],
      "metadata": {
        "id": "jNr0bZTseZR6"
      },
      "execution_count": 22,
      "outputs": []
    },
    {
      "cell_type": "code",
      "source": [
        "def prepare_input(input):\n",
        "  return input.split()"
      ],
      "metadata": {
        "id": "5FwlRiDceZR6"
      },
      "execution_count": 23,
      "outputs": []
    },
    {
      "cell_type": "code",
      "source": [
        "words = prepare_input(input)"
      ],
      "metadata": {
        "id": "50GY7jrVeZR6"
      },
      "execution_count": 24,
      "outputs": []
    },
    {
      "cell_type": "markdown",
      "source": [
        "## Part 1"
      ],
      "metadata": {
        "id": "8zky7tG1eZR7"
      }
    },
    {
      "cell_type": "code",
      "source": [
        "directions = [(0, 1), (0, -1), (-1, 0), (1, 0), (1, 1), (1, -1), (-1, 1), (-1, -1)]"
      ],
      "metadata": {
        "id": "ZDoYTRvzGw5a"
      },
      "execution_count": 25,
      "outputs": []
    },
    {
      "cell_type": "code",
      "source": [
        "def validate(row_pos, col_pos, x_dir, y_dir, word_matrix, word):\n",
        "  \"\"\" validate if whole word can fit from location (row_pos, col_pos) into direction (x_dir, y_dir)\"\"\"\n",
        "\n",
        "  rows_num = len(word_matrix)\n",
        "  cols_num = len(word_matrix[0])\n",
        "\n",
        "  for i, letter in enumerate(word):\n",
        "      x_n = row_pos + x_dir * i\n",
        "      y_n = col_pos + y_dir * i\n",
        "      if x_n < 0 or y_n < 0 or x_n >= rows_num or y_n >= cols_num or word_matrix[x_n][y_n] != letter:\n",
        "          return False\n",
        "  return True"
      ],
      "metadata": {
        "id": "WqmTnM48eZR7"
      },
      "execution_count": 26,
      "outputs": []
    },
    {
      "cell_type": "code",
      "source": [
        "rows = len(words)\n",
        "cols = len(words[0])\n",
        "xmas = \"XMAS\""
      ],
      "metadata": {
        "id": "r__C_Vs0GhVu"
      },
      "execution_count": 27,
      "outputs": []
    },
    {
      "cell_type": "code",
      "source": [
        "count = 0\n",
        "\n",
        "for row in range(rows):\n",
        "     for column in range(cols):\n",
        "          for dirx, diry in directions:\n",
        "               if validate(row, column, dirx, diry, words, xmas):\n",
        "                    count += 1\n",
        "\n",
        "print(count)"
      ],
      "metadata": {
        "id": "pdHzxnlWGcvp",
        "outputId": "b08f843b-9c5c-4f2c-de51-b14f9c7d2849",
        "colab": {
          "base_uri": "https://localhost:8080/"
        }
      },
      "execution_count": 28,
      "outputs": [
        {
          "output_type": "stream",
          "name": "stdout",
          "text": [
            "2483\n"
          ]
        }
      ]
    },
    {
      "cell_type": "markdown",
      "source": [
        "##Part 2"
      ],
      "metadata": {
        "id": "swQ_9qE2eZR7"
      }
    },
    {
      "cell_type": "code",
      "source": [
        "rows = len(words)\n",
        "cols = len(words[0])\n",
        "count = 0\n",
        "\n",
        "for row in range(1, rows - 1):\n",
        "  for column in range(1, cols - 1):\n",
        "    skos1 = words[row - 1][column - 1] + words[row][column] + words[row + 1][column + 1] # skos \\\n",
        "    skos2 = words[row - 1][column + 1] + words[row][column] + words[row + 1][column - 1] # skos /\n",
        "    if (skos1 == \"MAS\" or skos1 == \"SAM\") and (skos2 == \"MAS\" or skos2 == \"SAM\"):\n",
        "      count += 1\n",
        "\n",
        "print(count)"
      ],
      "metadata": {
        "colab": {
          "base_uri": "https://localhost:8080/"
        },
        "outputId": "852d91b4-8b9c-4744-8cfa-3785f7a10bcf",
        "id": "DCLS-qnAeZR7"
      },
      "execution_count": 31,
      "outputs": [
        {
          "output_type": "stream",
          "name": "stdout",
          "text": [
            "1925\n"
          ]
        }
      ]
    },
    {
      "cell_type": "markdown",
      "source": [
        "# Day 5 year 2024"
      ],
      "metadata": {
        "id": "uG0ieCKqyWEh"
      }
    },
    {
      "cell_type": "markdown",
      "source": [
        "## Setup test input and test data"
      ],
      "metadata": {
        "id": "Y1s5ZOTMyWEi"
      }
    },
    {
      "cell_type": "code",
      "source": [
        "day = 5\n",
        "setup_dir(day)\n",
        "get_input(day,2024)\n",
        "input = open(f\"day0{day}/input.txt\").read()\n",
        "test_input = \"\"\"47|53\n",
        "97|13\n",
        "97|61\n",
        "97|47\n",
        "75|29\n",
        "61|13\n",
        "75|53\n",
        "29|13\n",
        "97|29\n",
        "53|29\n",
        "61|53\n",
        "97|53\n",
        "61|29\n",
        "47|13\n",
        "75|47\n",
        "97|75\n",
        "47|61\n",
        "75|61\n",
        "47|29\n",
        "75|13\n",
        "53|13\n",
        "\n",
        "75,47,61,53,29\n",
        "97,61,53,29,13\n",
        "75,29,13\n",
        "75,97,47,61,53\n",
        "61,13,29\n",
        "97,13,75,29,47\"\"\""
      ],
      "metadata": {
        "colab": {
          "base_uri": "https://localhost:8080/"
        },
        "id": "GtPi_JXcyWEj",
        "outputId": "fd527751-224a-41ba-ebac-2a4cad4204dd"
      },
      "execution_count": 47,
      "outputs": [
        {
          "output_type": "stream",
          "name": "stderr",
          "text": [
            "WARNING:__main__:day05/input.txt already exists, skip download\n"
          ]
        }
      ]
    },
    {
      "cell_type": "code",
      "source": [
        "def prepare_input(input):\n",
        "  # Split input into rules and updates\n",
        "  rules_section, updates_section = input.strip().split(\"\\n\\n\")\n",
        "  rules = [tuple(map(int, line.split(\"|\"))) for line in rules_section.splitlines()]\n",
        "  updates = [list(map(int, line.split(\",\"))) for line in updates_section.splitlines()]\n",
        "  return rules, updates"
      ],
      "metadata": {
        "id": "A4VHA4l8yWEj"
      },
      "execution_count": 48,
      "outputs": []
    },
    {
      "cell_type": "code",
      "source": [
        "rules, updates = prepare_input(input)"
      ],
      "metadata": {
        "id": "F7bxcLYu0eUS"
      },
      "execution_count": 49,
      "outputs": []
    },
    {
      "cell_type": "markdown",
      "source": [
        "## Part 1"
      ],
      "metadata": {
        "id": "QqJ6qJLNyWEk"
      }
    },
    {
      "cell_type": "code",
      "source": [
        "from functools import cmp_to_key\n",
        "\n",
        "def comparator(x, y, rules):\n",
        "  # If there's a rule x|y, x should come before y\n",
        "  if (x, y) in rules:\n",
        "      return -1\n",
        "  if (y, x) in rules:\n",
        "      return 1\n",
        "  return 0  # No direct rule between x and y\n",
        "\n",
        "def find_middle_page(update):\n",
        "  return update[len(update) // 2]\n",
        "\n",
        "def sum_middle_pages(rules, updates):\n",
        "  total = 0\n",
        "\n",
        "  for update in updates:\n",
        "      sorted_update = sorted(update, key=cmp_to_key(lambda x, y: comparator(x, y, rules)))\n",
        "      if sorted_update == update:\n",
        "          total += find_middle_page(update)\n",
        "\n",
        "  return total"
      ],
      "metadata": {
        "id": "YXQfdbqTyWEk"
      },
      "execution_count": 53,
      "outputs": []
    },
    {
      "cell_type": "code",
      "source": [
        "result = sum_middle_pages(rules, updates)\n",
        "print(f\"Sum of middle pages: {result}\")"
      ],
      "metadata": {
        "outputId": "dfc7c528-f1fc-4cae-ddf0-8c7d27820b96",
        "colab": {
          "base_uri": "https://localhost:8080/"
        },
        "id": "nuAj12beyWEl"
      },
      "execution_count": 54,
      "outputs": [
        {
          "output_type": "stream",
          "name": "stdout",
          "text": [
            "Sum of middle pages: 7024\n"
          ]
        }
      ]
    },
    {
      "cell_type": "markdown",
      "source": [
        "##Part 2"
      ],
      "metadata": {
        "id": "Ow4OboY-yWEm"
      }
    }
  ]
}